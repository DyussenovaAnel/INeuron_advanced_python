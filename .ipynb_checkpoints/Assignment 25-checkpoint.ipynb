{
 "cells": [
  {
   "cell_type": "markdown",
   "id": "07b993f0",
   "metadata": {},
   "source": [
    "Q1. What is the distinction between a numpy array and a pandas data frame? Is there a way to\n",
    "convert between the two if there is?"
   ]
  },
  {
   "cell_type": "code",
   "execution_count": 5,
   "id": "a27671dc",
   "metadata": {},
   "outputs": [],
   "source": [
    "import numpy as np\n",
    "import pandas as pd\n",
    "\n",
    "arr = np.array([1,2,3,4])\n",
    "df = pd.DataFrame(arr)\n",
    "arr1 = np.array(df)"
   ]
  },
  {
   "cell_type": "markdown",
   "id": "95c7f87e",
   "metadata": {},
   "source": [
    "Pandas:\n",
    "When we have to work on Tabular data, we prefer the pandas module.\n",
    "The powerful tools of pandas are Data frame and Series.\n",
    "Pandas consume more memory.\n",
    "\n",
    "\n",
    "Numpy:\n",
    "When we have to work on Numerical data, we prefer the numpy module.\n",
    "Whereas the powerful tool of numpy is Arrays.\n",
    "Numpy is memory efficient."
   ]
  },
  {
   "cell_type": "markdown",
   "id": "3243c1e6",
   "metadata": {},
   "source": [
    "Q2. What can go wrong when an user enters in a stock-ticker symbol, and how do you handle it?"
   ]
  },
  {
   "cell_type": "markdown",
   "id": "a32e6272",
   "metadata": {},
   "source": [
    "A stock symbol can consist of letters, numbers, or a combination of both, and is a way to uniquely identify that stock. The symbols were kept as short as possible to reduce the number of characters that had to be printed on the ticker tape, and to make it easy to recognize by traders and investors."
   ]
  },
  {
   "cell_type": "markdown",
   "id": "c90dcf73",
   "metadata": {},
   "source": [
    "Q3. Identify some of the plotting techniques that are used to produce a stock-market chart."
   ]
  },
  {
   "cell_type": "markdown",
   "id": "0dcbb6da",
   "metadata": {},
   "source": [
    "Area Chart -- Often called ‘Mountain’ charts, area charts are a more simplified interpretation of standard line charts.\n",
    "\n",
    "Candlestick Chart -- A candlestick is a type of price chart used in technical analysis that displays the high, low, open, and closing prices of a security for a specific period.\n",
    "\n",
    "OHLC Chart -- An OHLC chart is a type of bar chart that shows open, high, low, and closing prices for each period."
   ]
  },
  {
   "cell_type": "markdown",
   "id": "7466ba49",
   "metadata": {},
   "source": [
    "Q4. Why is it essential to print a legend on a stock market chart?"
   ]
  },
  {
   "cell_type": "markdown",
   "id": "4bd47d99",
   "metadata": {},
   "source": [
    "because it is necessary to understand the chart"
   ]
  },
  {
   "cell_type": "markdown",
   "id": "82e51bfa",
   "metadata": {},
   "source": [
    "Q5. What is the best way to limit the length of a pandas data frame to less than a year?"
   ]
  },
  {
   "cell_type": "markdown",
   "id": "63e6c496",
   "metadata": {},
   "source": [
    "Q6. What is the definition of a 180-day moving average?"
   ]
  },
  {
   "cell_type": "markdown",
   "id": "56584ca5",
   "metadata": {},
   "source": [
    "Sometimes known as the ‘simple moving average’ (there are more complex versions, such as the exponential moving average, or EMA) this can help cut through the volatility on a stock chart by showing long-term trends as a single line, rather than just seeing the noise of frequent fluctuations."
   ]
  },
  {
   "cell_type": "markdown",
   "id": "83356ef9",
   "metadata": {},
   "source": [
    "Q7. Did the chapter's final example use \"indirect\" importing? If so, how exactly do you do it?"
   ]
  },
  {
   "cell_type": "code",
   "execution_count": 6,
   "id": "31fe6a1f",
   "metadata": {},
   "outputs": [],
   "source": [
    "import numpy as np\n",
    "p = __import__('numpy', globals(), locals(), [], 0)\n",
    "a = np.array([1, 2, 3])"
   ]
  },
  {
   "cell_type": "code",
   "execution_count": null,
   "id": "8d180217",
   "metadata": {},
   "outputs": [],
   "source": []
  }
 ],
 "metadata": {
  "kernelspec": {
   "display_name": "Python 3 (ipykernel)",
   "language": "python",
   "name": "python3"
  },
  "language_info": {
   "codemirror_mode": {
    "name": "ipython",
    "version": 3
   },
   "file_extension": ".py",
   "mimetype": "text/x-python",
   "name": "python",
   "nbconvert_exporter": "python",
   "pygments_lexer": "ipython3",
   "version": "3.9.12"
  }
 },
 "nbformat": 4,
 "nbformat_minor": 5
}
