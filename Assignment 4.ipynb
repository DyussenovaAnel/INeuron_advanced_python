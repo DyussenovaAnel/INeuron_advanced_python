{
 "cells": [
  {
   "cell_type": "markdown",
   "id": "8e07f6fc",
   "metadata": {},
   "source": [
    "Q1. Which two operator overloading methods can you use in your classes to support iteration?\n",
    "\n",
    "__iter__, __next__"
   ]
  },
  {
   "cell_type": "markdown",
   "id": "405eb020",
   "metadata": {},
   "source": [
    "Q2. In what contexts do the two operator overloading methods manage printing?\n",
    "\n",
    "when we call methods  - print(), str(), and repr(). print(), str() for __str__  and print(), str(), and repr() for repr(). if both difined then calls __str__"
   ]
  },
  {
   "cell_type": "markdown",
   "id": "7a23a17f",
   "metadata": {},
   "source": [
    "Q3. In a class, how do you intercept slice operations?\n",
    "\n",
    "using __delitem__"
   ]
  },
  {
   "cell_type": "markdown",
   "id": "fd66ca3b",
   "metadata": {},
   "source": [
    "Q4. In a class, how do you capture in-place addition?\n",
    "__add__"
   ]
  },
  {
   "cell_type": "markdown",
   "id": "c653a6f4",
   "metadata": {},
   "source": [
    "Q5. When is it appropriate to use operator overloading?\n",
    "\n",
    "Whenever the meaning of an operator is not obviously clear and undisputed, it should not be overloaded. \n",
    "\n",
    "Always stick to the operator’s well-known semantics.\n",
    "\n",
    "Always provide all out of a set of related operations."
   ]
  },
  {
   "cell_type": "code",
   "execution_count": null,
   "id": "54c5b97e",
   "metadata": {},
   "outputs": [],
   "source": []
  }
 ],
 "metadata": {
  "kernelspec": {
   "display_name": "Python 3 (ipykernel)",
   "language": "python",
   "name": "python3"
  },
  "language_info": {
   "codemirror_mode": {
    "name": "ipython",
    "version": 3
   },
   "file_extension": ".py",
   "mimetype": "text/x-python",
   "name": "python",
   "nbconvert_exporter": "python",
   "pygments_lexer": "ipython3",
   "version": "3.9.12"
  }
 },
 "nbformat": 4,
 "nbformat_minor": 5
}
