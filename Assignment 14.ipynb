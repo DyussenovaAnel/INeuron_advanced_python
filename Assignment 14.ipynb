{
 "cells": [
  {
   "cell_type": "markdown",
   "id": "0ed80deb",
   "metadata": {},
   "source": [
    "Q1. Is an assignment operator like += only for show? Is it possible that it would lead to faster results\n",
    "at the runtime?"
   ]
  },
  {
   "cell_type": "code",
   "execution_count": 1,
   "id": "29639baa",
   "metadata": {},
   "outputs": [
    {
     "name": "stdout",
     "output_type": "stream",
     "text": [
      "0.0\n"
     ]
    }
   ],
   "source": [
    "import time\n",
    "start_time = time.time()\n",
    "a=1\n",
    "b=2\n",
    "a=a+b \n",
    "print(time.time() - start_time)"
   ]
  },
  {
   "cell_type": "code",
   "execution_count": 2,
   "id": "527330d8",
   "metadata": {},
   "outputs": [
    {
     "name": "stdout",
     "output_type": "stream",
     "text": [
      "0.0010006427764892578\n"
     ]
    }
   ],
   "source": [
    "start_time = time.time()\n",
    "a=1\n",
    "b=2\n",
    "a+=b \n",
    "print(time.time() - start_time)"
   ]
  },
  {
   "cell_type": "markdown",
   "id": "364f19df",
   "metadata": {},
   "source": [
    "No it is slower than a=a+b "
   ]
  },
  {
   "cell_type": "markdown",
   "id": "4987f2bb",
   "metadata": {},
   "source": [
    "Q2. What is the smallest number of statements you&#39;d have to write in most programming languages to\n",
    "replace the Python expression a, b = a + b, a?"
   ]
  },
  {
   "cell_type": "code",
   "execution_count": 6,
   "id": "e5dd47db",
   "metadata": {},
   "outputs": [
    {
     "name": "stdout",
     "output_type": "stream",
     "text": [
      "2 1\n"
     ]
    }
   ],
   "source": [
    "a=1\n",
    "b=2\n",
    "\n",
    "temp = a\n",
    "a = b\n",
    "b = temp # 3 rows\n",
    "print(a,b)"
   ]
  },
  {
   "cell_type": "markdown",
   "id": "d069b756",
   "metadata": {},
   "source": [
    "Q3. In Python, what is the most effective way to set a list of 100 integers to 0?"
   ]
  },
  {
   "cell_type": "code",
   "execution_count": 8,
   "id": "b1fa2210",
   "metadata": {},
   "outputs": [],
   "source": [
    "ar=[0 for i in range(101)]"
   ]
  },
  {
   "cell_type": "markdown",
   "id": "3a693799",
   "metadata": {},
   "source": [
    "Q4. What is the most effective way to initialise a list of 99 integers that repeats the sequence 1, 2, 3?\n",
    "S If necessary, show step-by-step instructions on how to accomplish this."
   ]
  },
  {
   "cell_type": "code",
   "execution_count": 10,
   "id": "51e3134a",
   "metadata": {},
   "outputs": [],
   "source": [
    "n = 99\n",
    "arr = []\n",
    "for i in range(1,int(n/3)):\n",
    "    for j in range(1,4):\n",
    "        arr.append(j)"
   ]
  },
  {
   "cell_type": "markdown",
   "id": "c3dbfecb",
   "metadata": {},
   "source": [
    "Q5. If you're using IDLE to run a Python application, explain how to print a multidimensional list as\n",
    "efficiently?"
   ]
  },
  {
   "cell_type": "code",
   "execution_count": 13,
   "id": "d7a24b5c",
   "metadata": {},
   "outputs": [
    {
     "name": "stdout",
     "output_type": "stream",
     "text": [
      "[[1, 2, 3], [1, 2, 3], [1, 2, 3], [1, 2, 3], [1, 2, 3], [1, 2, 3]]\n",
      "[1, 2, 3]\n",
      "[1, 2, 3]\n",
      "[1, 2, 3]\n",
      "[1, 2, 3]\n",
      "[1, 2, 3]\n",
      "[1, 2, 3]\n"
     ]
    }
   ],
   "source": [
    "arr = [[1, 2, 3],[1, 2, 3],[1, 2, 3],[1, 2, 3],[1, 2, 3],[1, 2, 3]]\n",
    "print(arr)\n",
    "\n",
    "for row in arr:\n",
    "    print(row)"
   ]
  },
  {
   "cell_type": "markdown",
   "id": "66b6e7b6",
   "metadata": {},
   "source": [
    "Q6. Is it possible to use list comprehension with a string? If so, how can you go about doing it?"
   ]
  },
  {
   "cell_type": "code",
   "execution_count": 14,
   "id": "6b09e2e7",
   "metadata": {},
   "outputs": [],
   "source": [
    "n = 10\n",
    "arr=['a' for i in range(n)]"
   ]
  },
  {
   "cell_type": "markdown",
   "id": "f887277c",
   "metadata": {},
   "source": [
    "Q7. From the command line, how do you get support with a user-written Python programme? Is this\n",
    "possible from inside IDLE?"
   ]
  },
  {
   "cell_type": "markdown",
   "id": "d295e1ca",
   "metadata": {},
   "source": [
    "python my_file.py"
   ]
  },
  {
   "cell_type": "markdown",
   "id": "1abddea0",
   "metadata": {},
   "source": [
    "Q8. Functions are said to be “first-class objects” in Python but not in most other languages, such as\n",
    "C++ or Java. What can you do in Python with a function (callable object) that you can&#39;t do in C or\n",
    "C++?"
   ]
  },
  {
   "cell_type": "markdown",
   "id": "5885c53c",
   "metadata": {},
   "source": [
    "Q9. How do you distinguish between a wrapper, a wrapped feature, and a decorator?"
   ]
  },
  {
   "cell_type": "markdown",
   "id": "2b2cf751",
   "metadata": {},
   "source": [
    "decorator preserves the signature of the wrapped function, while wraps does not."
   ]
  },
  {
   "cell_type": "markdown",
   "id": "cc96cc59",
   "metadata": {},
   "source": [
    "Q10. If a function is a generator function, what does it return?"
   ]
  },
  {
   "cell_type": "markdown",
   "id": "71c58977",
   "metadata": {},
   "source": [
    "It returns a genrator object? which can be iterated"
   ]
  },
  {
   "cell_type": "code",
   "execution_count": 19,
   "id": "60764d2a",
   "metadata": {},
   "outputs": [],
   "source": [
    "def gen(a):\n",
    "    for i in range(0, a):\n",
    "        yield i"
   ]
  },
  {
   "cell_type": "code",
   "execution_count": 20,
   "id": "e7d1d284",
   "metadata": {},
   "outputs": [
    {
     "data": {
      "text/plain": [
       "<generator object gen at 0x000002B871FF8C80>"
      ]
     },
     "execution_count": 20,
     "metadata": {},
     "output_type": "execute_result"
    }
   ],
   "source": [
    "q=gen(10)\n",
    "q"
   ]
  },
  {
   "cell_type": "markdown",
   "id": "471b00eb",
   "metadata": {},
   "source": [
    "Q11. What is the one improvement that must be made to a function in order for it to become a\n",
    "generator function in the Python language?"
   ]
  },
  {
   "cell_type": "markdown",
   "id": "0a8ed63c",
   "metadata": {},
   "source": [
    "replace return by yield"
   ]
  },
  {
   "cell_type": "markdown",
   "id": "9268b0e0",
   "metadata": {},
   "source": [
    "Q12. Identify at least one benefit of generators."
   ]
  },
  {
   "cell_type": "markdown",
   "id": "aad9e31f",
   "metadata": {},
   "source": [
    "Infinite streams cannot be stored in memory, and since generators produce only one item at a time, they can represent an infinite stream of data."
   ]
  },
  {
   "cell_type": "code",
   "execution_count": null,
   "id": "63bcebf8",
   "metadata": {},
   "outputs": [],
   "source": []
  }
 ],
 "metadata": {
  "kernelspec": {
   "display_name": "Python 3 (ipykernel)",
   "language": "python",
   "name": "python3"
  },
  "language_info": {
   "codemirror_mode": {
    "name": "ipython",
    "version": 3
   },
   "file_extension": ".py",
   "mimetype": "text/x-python",
   "name": "python",
   "nbconvert_exporter": "python",
   "pygments_lexer": "ipython3",
   "version": "3.9.12"
  }
 },
 "nbformat": 4,
 "nbformat_minor": 5
}
