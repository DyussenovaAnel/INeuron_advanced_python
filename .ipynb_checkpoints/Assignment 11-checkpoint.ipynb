{
 "cells": [
  {
   "cell_type": "markdown",
   "id": "045abe31",
   "metadata": {},
   "source": [
    "Q1. What is the concept of a metaclass?"
   ]
  },
  {
   "cell_type": "markdown",
   "id": "be436564",
   "metadata": {},
   "source": [
    "A metaclass is the class of a class. A class defines how an instance of the class (i.e. an object) behaves while a metaclass defines how a class behaves. A class is an instance of a metaclass."
   ]
  },
  {
   "cell_type": "markdown",
   "id": "a349a522",
   "metadata": {},
   "source": [
    "Q2. What is the best way to declare a class's metaclass?"
   ]
  },
  {
   "cell_type": "code",
   "execution_count": 1,
   "id": "d8fee14a",
   "metadata": {},
   "outputs": [],
   "source": [
    "class MetaCls(type):\n",
    "    def __new__(cls, clsname, superclasses, attributedict):\n",
    "        return super(MetaCls, cls).__new__(cls, clsname, superclasses, attributedict)"
   ]
  },
  {
   "cell_type": "markdown",
   "id": "6553e83c",
   "metadata": {},
   "source": [
    "Q3. How do class decorators overlap with metaclasses for handling classes?"
   ]
  },
  {
   "cell_type": "markdown",
   "id": "804f840f",
   "metadata": {},
   "source": [
    "Anything you can do with a class decorator, you can of course do with a custom metaclass. There are many things you can do in a custom metaclass but not in a decorator \n",
    "\n",
    "Decorators are much, much simpler and more limited -- and therefore should be preferred whenever the desired effect can be achieved with either a metaclass or a class decorator."
   ]
  },
  {
   "cell_type": "markdown",
   "id": "590ad3b1",
   "metadata": {},
   "source": [
    "Q4. How do class decorators overlap with metaclasses for handling instances?"
   ]
  },
  {
   "cell_type": "markdown",
   "id": "4a68173b",
   "metadata": {},
   "source": [
    "The same applies to all magic methods, i.e., to all kinds of operations as applied to the class object itself (as opposed to, ones applied to its instances, which use magic methods as defined in the class -- operations on the class object itself use magic methods as defined in the metaclass)."
   ]
  },
  {
   "cell_type": "code",
   "execution_count": null,
   "id": "016a49f7",
   "metadata": {},
   "outputs": [],
   "source": []
  }
 ],
 "metadata": {
  "kernelspec": {
   "display_name": "Python 3 (ipykernel)",
   "language": "python",
   "name": "python3"
  },
  "language_info": {
   "codemirror_mode": {
    "name": "ipython",
    "version": 3
   },
   "file_extension": ".py",
   "mimetype": "text/x-python",
   "name": "python",
   "nbconvert_exporter": "python",
   "pygments_lexer": "ipython3",
   "version": "3.9.12"
  }
 },
 "nbformat": 4,
 "nbformat_minor": 5
}
