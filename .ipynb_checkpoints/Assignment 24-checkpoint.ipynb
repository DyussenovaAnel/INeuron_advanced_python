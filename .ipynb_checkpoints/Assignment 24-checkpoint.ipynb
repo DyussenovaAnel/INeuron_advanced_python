{
 "cells": [
  {
   "cell_type": "markdown",
   "id": "77c9832f",
   "metadata": {},
   "source": [
    "Q1. Is it permissible to use several import statements to import the same module? What would the\n",
    "goal be? Can you think of a situation where it would be beneficial?"
   ]
  },
  {
   "cell_type": "markdown",
   "id": "9df54a7d",
   "metadata": {},
   "source": [
    "There is no reaason for it, because if model already have been imported once? it would be reimported again, it will just be a reference for preveously imported module"
   ]
  },
  {
   "cell_type": "markdown",
   "id": "7e2f18a6",
   "metadata": {},
   "source": [
    "Q2. What are some of a module's characteristics? (Name at least one.)"
   ]
  },
  {
   "cell_type": "markdown",
   "id": "38ea3317",
   "metadata": {},
   "source": [
    "- A module can define functions, classes, and variables.\n",
    "- A module can also include runnable code.\n",
    "- Modules contain instructions, processing logic, and data.\n",
    "- Module segments can be used by other modules.\n",
    "- Grouping related code into a module makes the code easier to understand and use.\n",
    "- It also makes the code logically organized."
   ]
  },
  {
   "cell_type": "markdown",
   "id": "89dc7c91",
   "metadata": {},
   "source": [
    "Q3. Circular importing, such as when two modules import each other, can lead to dependencies and\n",
    "bugs that aren't visible. How can you go about creating a program that avoids mutual importing?"
   ]
  },
  {
   "cell_type": "markdown",
   "id": "10b4cea3",
   "metadata": {},
   "source": [
    "Use Absolute Import everywhere "
   ]
  },
  {
   "cell_type": "markdown",
   "id": "9bb54021",
   "metadata": {},
   "source": [
    "Q4. Why is _ _all_ _ in Python?"
   ]
  },
  {
   "cell_type": "markdown",
   "id": "3bc590b3",
   "metadata": {},
   "source": [
    "It's a list of public objects of that module, as interpreted by import *. It overrides the default of hiding everything that begins with an underscore."
   ]
  },
  {
   "cell_type": "markdown",
   "id": "277d009d",
   "metadata": {},
   "source": [
    "Q5. In what situation is it useful to refer to the _ _name_ _ attribute or the string &#39;_ _main_ _&#39;?"
   ]
  },
  {
   "cell_type": "markdown",
   "id": "475fbd9b",
   "metadata": {},
   "source": [
    "It's boilerplate code that protects users from accidentally invoking the script when they didn't intend to. \n",
    "\n",
    "- If you import the guardless script in another script\n",
    "- If you have a custom class in the guardless script and save it to a pickle file"
   ]
  },
  {
   "cell_type": "markdown",
   "id": "a87a6daa",
   "metadata": {},
   "source": [
    "Q6. What are some of the benefits of attaching a program counter to the RPN interpreter\n",
    "application, which interprets an RPN script line by line?"
   ]
  },
  {
   "cell_type": "markdown",
   "id": "ca0d6ee0",
   "metadata": {},
   "source": [
    "Q7. What are the minimum expressions or statements (or both) that you&#39;d need to render a basic\n",
    "programming language like RPN primitive but complete— that is, capable of carrying out any\n",
    "computerised task theoretically possible?"
   ]
  },
  {
   "cell_type": "markdown",
   "id": "1f64ff13",
   "metadata": {},
   "source": [
    "Expressions only contain identifiers, literals and operators, where operators include arithmetic and boolean operators\n",
    "\n",
    "Statements are everything that can make up a line (or several lines) of Python code. Expressions are statements as well."
   ]
  },
  {
   "cell_type": "code",
   "execution_count": null,
   "id": "c8b750b4",
   "metadata": {},
   "outputs": [],
   "source": []
  }
 ],
 "metadata": {
  "kernelspec": {
   "display_name": "Python 3 (ipykernel)",
   "language": "python",
   "name": "python3"
  },
  "language_info": {
   "codemirror_mode": {
    "name": "ipython",
    "version": 3
   },
   "file_extension": ".py",
   "mimetype": "text/x-python",
   "name": "python",
   "nbconvert_exporter": "python",
   "pygments_lexer": "ipython3",
   "version": "3.9.12"
  }
 },
 "nbformat": 4,
 "nbformat_minor": 5
}
