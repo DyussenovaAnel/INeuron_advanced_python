{
 "cells": [
  {
   "cell_type": "markdown",
   "id": "73726c1a",
   "metadata": {},
   "source": [
    "**Q1. Describe three applications for exception processing.**\n"
   ]
  },
  {
   "cell_type": "markdown",
   "id": "89fe2737",
   "metadata": {},
   "source": [
    "1. It may be used for application when we need input information from user. For checkeing right format of input and corresponds to application criteria \n",
    "\n",
    "2. May be usefull for working with files. Because path to the file may change or file format or even name. Or may occure some problem with connection to a file server\n",
    "\n",
    "3. it may be really usefull for testing application. By using try-except blocks and raising specific exceptions, you can identify and isolate specific problems"
   ]
  },
  {
   "cell_type": "markdown",
   "id": "68db049e",
   "metadata": {},
   "source": [
    "**Q2. What happens if you don't do something extra to treat an exception?**"
   ]
  },
  {
   "cell_type": "markdown",
   "id": "d03729a2",
   "metadata": {},
   "source": [
    "If the error will occur code will be interrupted and will print an error message and the traceback, which shows the sequence of function calls "
   ]
  },
  {
   "cell_type": "markdown",
   "id": "3a525f85",
   "metadata": {},
   "source": [
    "**Q3. What are your options for recovering from an exception in your script?**"
   ]
  },
  {
   "cell_type": "markdown",
   "id": "fa87c94c",
   "metadata": {},
   "source": [
    "try-except block\n",
    "\n",
    "try-except-else block\n",
    "\n",
    "try-except-finally block"
   ]
  },
  {
   "cell_type": "markdown",
   "id": "c7ceadd3",
   "metadata": {},
   "source": [
    "**Q4. Describe two methods for triggering exceptions in your script.**"
   ]
  },
  {
   "cell_type": "markdown",
   "id": "f79f3f05",
   "metadata": {},
   "source": [
    "to catch system errors using raise like raise ValueError(\"Invalid input\")\n",
    "\n",
    "to trigger an AssertionError exception ,using assert keyword followed by a condition that you want to test"
   ]
  },
  {
   "cell_type": "markdown",
   "id": "5a2ae9a0",
   "metadata": {},
   "source": [
    "**Q5. Identify two methods for specifying actions to be executed at termination time, regardless of whether or not an exception exists.**"
   ]
  },
  {
   "cell_type": "markdown",
   "id": "2e9a7b9c",
   "metadata": {},
   "source": [
    "- finally. will be executed regardless of whether an exception is raised or not\n",
    "- with. this statement allows you to define a context for a block of code, and specify actions to be taken when the block of code starts and when it ends"
   ]
  },
  {
   "cell_type": "code",
   "execution_count": null,
   "id": "49e4e766",
   "metadata": {},
   "outputs": [],
   "source": []
  }
 ],
 "metadata": {
  "kernelspec": {
   "display_name": "Python 3 (ipykernel)",
   "language": "python",
   "name": "python3"
  },
  "language_info": {
   "codemirror_mode": {
    "name": "ipython",
    "version": 3
   },
   "file_extension": ".py",
   "mimetype": "text/x-python",
   "name": "python",
   "nbconvert_exporter": "python",
   "pygments_lexer": "ipython3",
   "version": "3.9.12"
  }
 },
 "nbformat": 4,
 "nbformat_minor": 5
}
