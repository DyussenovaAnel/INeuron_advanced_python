{
 "cells": [
  {
   "cell_type": "markdown",
   "id": "33218d9e",
   "metadata": {},
   "source": [
    "What are the two latest user-defined exception constraints in Python 3.X?"
   ]
  },
  {
   "cell_type": "markdown",
   "id": "ca9a5a23",
   "metadata": {},
   "source": [
    "- Using raise keyword explicitly after conditional statements\n",
    "- Using Assert statements to implement user defined exceptions in python"
   ]
  },
  {
   "cell_type": "markdown",
   "id": "fc66795d",
   "metadata": {},
   "source": [
    "Q2. How are class-based exceptions that have been raised matched to handlers?"
   ]
  },
  {
   "cell_type": "markdown",
   "id": "0f65cfbf",
   "metadata": {},
   "source": [
    "Exception Handling is a mechanism to handle runtime errors such as ClassNotFoundException, IOException, SQLException, RemoteException, etc."
   ]
  },
  {
   "cell_type": "markdown",
   "id": "ca4a5ca1",
   "metadata": {},
   "source": [
    "Q3. Describe two methods for attaching context information to exception artefacts."
   ]
  },
  {
   "cell_type": "markdown",
   "id": "20c8f6eb",
   "metadata": {},
   "source": [
    "- Managing Resources using context manager\n",
    "\n",
    "- Creating a Context Manager"
   ]
  },
  {
   "cell_type": "markdown",
   "id": "48357015",
   "metadata": {},
   "source": [
    "Q4. Describe two methods for specifying the text of an exception object's error message."
   ]
  },
  {
   "cell_type": "markdown",
   "id": "345a24cf",
   "metadata": {},
   "source": [
    " think the proper way of handling this is to identify the specific Exception subclasses you want to catch, and then catch only those instead of everything with an except Exception, then utilize whatever attributes that specific subclass defines however you want."
   ]
  },
  {
   "cell_type": "markdown",
   "id": "53c6edc7",
   "metadata": {},
   "source": [
    "Q5. Why do you no longer use string-based exceptions?"
   ]
  },
  {
   "cell_type": "markdown",
   "id": "c087a269",
   "metadata": {},
   "source": [
    "exceptions should never ever hold a string, because strings themselves can throw exceptions. "
   ]
  },
  {
   "cell_type": "code",
   "execution_count": null,
   "id": "b6b7414b",
   "metadata": {},
   "outputs": [],
   "source": []
  }
 ],
 "metadata": {
  "kernelspec": {
   "display_name": "Python 3 (ipykernel)",
   "language": "python",
   "name": "python3"
  },
  "language_info": {
   "codemirror_mode": {
    "name": "ipython",
    "version": 3
   },
   "file_extension": ".py",
   "mimetype": "text/x-python",
   "name": "python",
   "nbconvert_exporter": "python",
   "pygments_lexer": "ipython3",
   "version": "3.9.12"
  }
 },
 "nbformat": 4,
 "nbformat_minor": 5
}
