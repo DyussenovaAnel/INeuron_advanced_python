{
 "cells": [
  {
   "cell_type": "markdown",
   "id": "4f9e3d72",
   "metadata": {},
   "source": [
    "Q1. Describe the differences between text and binary files in a single paragraph."
   ]
  },
  {
   "cell_type": "markdown",
   "id": "36d53694",
   "metadata": {},
   "source": [
    "bianry format is not human readable. Text has delimeters named EOL, binary dont have any. Binary file processing  is much faster. Small error in a binary file may make it unreadable"
   ]
  },
  {
   "cell_type": "markdown",
   "id": "c482bb33",
   "metadata": {},
   "source": [
    "Q2. What are some scenarios where using text files will be the better option? When would you like to\n",
    "use binary files instead of text files?"
   ]
  },
  {
   "cell_type": "markdown",
   "id": "975ac3b8",
   "metadata": {},
   "source": [
    "Text files are commonly used for storage of information. They avoid some of the problems encountered with other file formats, such as endianness, padding bytes, or differences in the number of bytes in a machine word. Binary files are used to store data more compactly. In the text file, a special character whose ASCII value is 26 inserted after the last character to mark the end of file. In the binary file no such character is present. Files keep track of the end of the file from the number of characters present."
   ]
  },
  {
   "cell_type": "markdown",
   "id": "5af049e2",
   "metadata": {},
   "source": [
    "Q3. What are some of the issues with using binary operations to read and write a Python integer\n",
    "directly to disc?"
   ]
  },
  {
   "cell_type": "markdown",
   "id": "5edc363d",
   "metadata": {},
   "source": [
    "It can directly write a python integer to binary as it s so these issues comes with the integer so we can convert these by bin() function can solve these"
   ]
  },
  {
   "cell_type": "markdown",
   "id": "a8fc0c91",
   "metadata": {},
   "source": [
    "Q4. Describe a benefit of using the with keyword instead of explicitly opening a file."
   ]
  },
  {
   "cell_type": "markdown",
   "id": "b1ea829d",
   "metadata": {},
   "source": [
    "In python the with keyword is used when working with unmanaged resources (like file streams). The with statement clarifies code that previously would use try...finally blocks to ensure that clean-up code is executed. The advantage of using a with statement is that it is guaranteed to close the file no matter how the nested block exits. If an exception occurs before the end of the block, it will close the file before the exception is caught by an outer exception handler. "
   ]
  },
  {
   "cell_type": "markdown",
   "id": "fd6c3228",
   "metadata": {},
   "source": [
    "Q5. Does Python have the trailing newline while reading a line of text? Does Python append a\n",
    "newline when you write a line of text?"
   ]
  },
  {
   "cell_type": "markdown",
   "id": "30386309",
   "metadata": {},
   "source": [
    "yes it append newline"
   ]
  },
  {
   "cell_type": "markdown",
   "id": "2cd74925",
   "metadata": {},
   "source": [
    "Q6. What file operations enable for random-access operation?"
   ]
  },
  {
   "cell_type": "markdown",
   "id": "118c703b",
   "metadata": {},
   "source": [
    "we have to r,r+,a,a+,w,w+ file operatins by default it has in write operationfor file access randomly."
   ]
  },
  {
   "cell_type": "markdown",
   "id": "62ee2698",
   "metadata": {},
   "source": [
    "Q7. When do you think you&#39;ll use the struct package the most?"
   ]
  },
  {
   "cell_type": "markdown",
   "id": "840f59b3",
   "metadata": {},
   "source": [
    "This module performs conversions between Python values and C structs represented as Python bytes objects. Format strings are the mechanism used to specify the expected layout when packing and unpacking data. "
   ]
  },
  {
   "cell_type": "markdown",
   "id": "c463e002",
   "metadata": {},
   "source": [
    "Q8. When is pickling the best option?"
   ]
  },
  {
   "cell_type": "markdown",
   "id": "cfe39f47",
   "metadata": {},
   "source": [
    "The pickle module implements a fundamental, but powerful algorithm for serializing and de-serializing a Python object structure.\n",
    "\n",
    "Pickling - is the process whereby a Python object hierarchy is converted into a byte stream, and Unpickling - is the inverse operation, whereby a byte stream is converted back into an object hierarchy.\n",
    "\n",
    "Pickling (and unpickling) is alternatively known as serialization, marshalling, or flattening."
   ]
  },
  {
   "cell_type": "markdown",
   "id": "9627b933",
   "metadata": {},
   "source": [
    "Q9. When will it be best to use the shelve package?"
   ]
  },
  {
   "cell_type": "markdown",
   "id": "47f81a72",
   "metadata": {},
   "source": [
    "The Shelve module is used to store data when using a relational database is not recommended. A shelf object is a dictionary-like object, which is defined in this module. Keys in shelf objects are strings and values are Python objects, that can be handled by the Pickle module. The shelve module comes with Python’s standard utility module, so there is no need to install it externally."
   ]
  },
  {
   "cell_type": "markdown",
   "id": "bf44d14e",
   "metadata": {},
   "source": [
    "Q10. What is a special restriction when using the shelve package, as opposed to using other data\n",
    "dictionaries?"
   ]
  },
  {
   "cell_type": "code",
   "execution_count": null,
   "id": "7e9eb8c3",
   "metadata": {},
   "outputs": [],
   "source": []
  }
 ],
 "metadata": {
  "kernelspec": {
   "display_name": "Python 3 (ipykernel)",
   "language": "python",
   "name": "python3"
  },
  "language_info": {
   "codemirror_mode": {
    "name": "ipython",
    "version": 3
   },
   "file_extension": ".py",
   "mimetype": "text/x-python",
   "name": "python",
   "nbconvert_exporter": "python",
   "pygments_lexer": "ipython3",
   "version": "3.9.12"
  }
 },
 "nbformat": 4,
 "nbformat_minor": 5
}
