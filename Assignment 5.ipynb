{
 "cells": [
  {
   "cell_type": "markdown",
   "id": "4b329b12",
   "metadata": {},
   "source": [
    "Q1. What is the meaning of multiple inheritance?\n",
    "\n",
    "When class can inherit properties of more than one parent class."
   ]
  },
  {
   "cell_type": "markdown",
   "id": "484601f8",
   "metadata": {},
   "source": [
    "Q2. What is the concept of delegation?\n",
    "\n",
    "the delegation allows object composition to achieve the same code reuse as inheritance. using delegation child classes can use methods from parent classes"
   ]
  },
  {
   "cell_type": "markdown",
   "id": "69fb78e1",
   "metadata": {},
   "source": [
    "Q3. What is the concept of composition?\n",
    "\n",
    "we can access the members of one class inside another class. It means that a class Composite can contain an object of another class Component."
   ]
  },
  {
   "cell_type": "markdown",
   "id": "5735a6a9",
   "metadata": {},
   "source": [
    "Q4. What are bound methods and how do we use them?\n",
    "\n",
    "If a function is an attribute of class and it is accessed via the instances, they are called bound methods. It is all metheds with \"self\" argument "
   ]
  },
  {
   "cell_type": "markdown",
   "id": "7f4bfdc6",
   "metadata": {},
   "source": [
    "Q5. What is the purpose of pseudoprivate attributes?\n",
    "\n",
    "The pseudo-private is meant to simplify instance attributes storeing. "
   ]
  },
  {
   "cell_type": "code",
   "execution_count": null,
   "id": "cf4dd03e",
   "metadata": {},
   "outputs": [],
   "source": []
  }
 ],
 "metadata": {
  "kernelspec": {
   "display_name": "Python 3 (ipykernel)",
   "language": "python",
   "name": "python3"
  },
  "language_info": {
   "codemirror_mode": {
    "name": "ipython",
    "version": 3
   },
   "file_extension": ".py",
   "mimetype": "text/x-python",
   "name": "python",
   "nbconvert_exporter": "python",
   "pygments_lexer": "ipython3",
   "version": "3.9.12"
  }
 },
 "nbformat": 4,
 "nbformat_minor": 5
}
