{
 "cells": [
  {
   "cell_type": "markdown",
   "id": "bfcf7925",
   "metadata": {},
   "source": [
    "Q1. What is the relationship between classes and modules?\n",
    "\n",
    "Class holds objects and has methods that interact with objects while module is about methods that can be used across multiple classes. "
   ]
  },
  {
   "cell_type": "markdown",
   "id": "1054723b",
   "metadata": {},
   "source": [
    "Q2. How do you make instances and classes?"
   ]
  },
  {
   "cell_type": "code",
   "execution_count": 1,
   "id": "b54ee251",
   "metadata": {},
   "outputs": [
    {
     "data": {
      "text/plain": [
       "<__main__.MyObject at 0x1aeee30c580>"
      ]
     },
     "execution_count": 1,
     "metadata": {},
     "output_type": "execute_result"
    }
   ],
   "source": [
    "class MyObject:  #create claas\n",
    "    def __init__(self, name): \n",
    "        self.name = name\n",
    "\n",
    "mo = MyObject('object1') #create instance\n",
    "mo"
   ]
  },
  {
   "cell_type": "markdown",
   "id": "b2806795",
   "metadata": {},
   "source": [
    "Q3. Where and how should be class attributes created?\n",
    "\n",
    "in the constuctor, __init__ function"
   ]
  },
  {
   "cell_type": "markdown",
   "id": "3646afb5",
   "metadata": {},
   "source": [
    "Q4. Where and how are instance attributes created?"
   ]
  },
  {
   "cell_type": "code",
   "execution_count": 2,
   "id": "0fce7d24",
   "metadata": {},
   "outputs": [],
   "source": [
    "mo1 = MyObject('object1') #when we create instance we give parameters to a class, thats will be instance atributes"
   ]
  },
  {
   "cell_type": "markdown",
   "id": "e027384e",
   "metadata": {},
   "source": [
    "Q5. What does the term 'self' in a Python class mean?\n",
    "\n",
    "in python first argument for methods is - self. self it is like on object (which calling method) itself. We can get object atributes using self"
   ]
  },
  {
   "cell_type": "markdown",
   "id": "6c6021cd",
   "metadata": {},
   "source": [
    "Q6. How does a Python class handle operator overloading?\n",
    "\n",
    "We can overload operators using predefined functions as example to override >, you can override __gt__(), for != override __ne__()"
   ]
  },
  {
   "cell_type": "markdown",
   "id": "372648de",
   "metadata": {},
   "source": [
    "Q7. When do you consider allowing operator overloading of your classes?\n",
    "\n",
    "I think that better to use methods. And use overloading just when the logic you wnt to implent using operators are very similar to operators default logic and when it is really simple"
   ]
  },
  {
   "cell_type": "markdown",
   "id": "785a3ba1",
   "metadata": {},
   "source": [
    "Q8. What is the most popular form of operator overloading?\n",
    "\n",
    "using functions like __gt__ __add__ __ne__"
   ]
  },
  {
   "cell_type": "markdown",
   "id": "e18284f7",
   "metadata": {},
   "source": [
    "Q9. What are the two most important concepts to grasp in order to comprehend Python OOP code?\n",
    "\n",
    "Class and object"
   ]
  },
  {
   "cell_type": "code",
   "execution_count": null,
   "id": "9abfbe53",
   "metadata": {},
   "outputs": [],
   "source": []
  }
 ],
 "metadata": {
  "kernelspec": {
   "display_name": "Python 3 (ipykernel)",
   "language": "python",
   "name": "python3"
  },
  "language_info": {
   "codemirror_mode": {
    "name": "ipython",
    "version": 3
   },
   "file_extension": ".py",
   "mimetype": "text/x-python",
   "name": "python",
   "nbconvert_exporter": "python",
   "pygments_lexer": "ipython3",
   "version": "3.9.12"
  }
 },
 "nbformat": 4,
 "nbformat_minor": 5
}
