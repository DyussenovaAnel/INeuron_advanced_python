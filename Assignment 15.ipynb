{
 "cells": [
  {
   "cell_type": "markdown",
   "id": "9cd39943",
   "metadata": {},
   "source": [
    "1. What are the new features added in Python 3.8 version?"
   ]
  },
  {
   "cell_type": "markdown",
   "id": "fd7301c9",
   "metadata": {},
   "source": [
    "Assignment expressions. \n",
    "There is new syntax := that assigns values to variables as part of a larger expression. It is affectionately known as “the walrus operator” due to its resemblance to the eyes and tusks of a walrus.\n",
    "\n",
    "Positional-only parameters.\n",
    "There is a new function parameter syntax / to indicate that some function parameters must be specified positionally and cannot be used as keyword arguments. \n",
    "\n",
    "Parallel filesystem cache for compiled bytecode files\n",
    "\n",
    "Debug build uses the same ABI as release build\n"
   ]
  },
  {
   "cell_type": "markdown",
   "id": "a03fbcb9",
   "metadata": {},
   "source": [
    "2. What is monkey patching in Python?"
   ]
  },
  {
   "cell_type": "markdown",
   "id": "2a4b59e4",
   "metadata": {},
   "source": [
    "the dynamic replacement of attributes at runtime."
   ]
  },
  {
   "cell_type": "markdown",
   "id": "998b0bfd",
   "metadata": {},
   "source": [
    "3. What is the difference between a shallow copy and deep copy?"
   ]
  },
  {
   "cell_type": "markdown",
   "id": "df389927",
   "metadata": {},
   "source": [
    "Shallow copies duplicate as little as possible. A shallow copy of a collection is a copy of the collection structure, not the elements. With a shallow copy, two collections now share the individual elements.\n",
    "\n",
    "Deep copies duplicate everything. A deep copy of a collection is two collections with all of the elements in the original collection duplicated."
   ]
  },
  {
   "cell_type": "markdown",
   "id": "df4b1d2a",
   "metadata": {},
   "source": [
    "4. What is the maximum possible length of an identifier?"
   ]
  },
  {
   "cell_type": "markdown",
   "id": "342fb15d",
   "metadata": {},
   "source": [
    "for python is 79"
   ]
  },
  {
   "cell_type": "markdown",
   "id": "ea772007",
   "metadata": {},
   "source": [
    "5. What is generator comprehension?"
   ]
  },
  {
   "cell_type": "markdown",
   "id": "b73eca40",
   "metadata": {},
   "source": [
    "It is just like a list comprehension except that it returns an iterator instead of the list ie an object with a next() method that will yield the next element."
   ]
  },
  {
   "cell_type": "code",
   "execution_count": null,
   "id": "d5044d8a",
   "metadata": {},
   "outputs": [],
   "source": []
  }
 ],
 "metadata": {
  "kernelspec": {
   "display_name": "Python 3 (ipykernel)",
   "language": "python",
   "name": "python3"
  },
  "language_info": {
   "codemirror_mode": {
    "name": "ipython",
    "version": 3
   },
   "file_extension": ".py",
   "mimetype": "text/x-python",
   "name": "python",
   "nbconvert_exporter": "python",
   "pygments_lexer": "ipython3",
   "version": "3.9.12"
  }
 },
 "nbformat": 4,
 "nbformat_minor": 5
}
