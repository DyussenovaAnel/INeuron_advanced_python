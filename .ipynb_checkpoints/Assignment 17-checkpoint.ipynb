{
 "cells": [
  {
   "cell_type": "markdown",
   "id": "84e2f33b",
   "metadata": {},
   "source": [
    "Q1. Explain the difference between greedy and non-greedy syntax with visual terms in as few words\n",
    "as possible. What is the bare minimum effort required to transform a greedy pattern into a non-greedy\n",
    "one? What characters or characters can you introduce or change?"
   ]
  },
  {
   "cell_type": "markdown",
   "id": "ec2a6de1",
   "metadata": {},
   "source": [
    "[*] greedy \n",
    "\n",
    "? is not greedy\n"
   ]
  },
  {
   "cell_type": "code",
   "execution_count": 9,
   "id": "5bc26bcd",
   "metadata": {},
   "outputs": [
    {
     "name": "stdout",
     "output_type": "stream",
     "text": [
      "Usddfghj\n"
     ]
    }
   ],
   "source": [
    "import re\n",
    "s = 'Usddfghj'\n",
    "print(re.match('U.*', s).group()) #greedy"
   ]
  },
  {
   "cell_type": "code",
   "execution_count": 11,
   "id": "5c9e476a",
   "metadata": {},
   "outputs": [
    {
     "name": "stdout",
     "output_type": "stream",
     "text": [
      "U\n"
     ]
    }
   ],
   "source": [
    "print(re.match('U.*?', s).group()) #non greedy"
   ]
  },
  {
   "cell_type": "markdown",
   "id": "45dfcc8b",
   "metadata": {},
   "source": [
    "Q2. When exactly does greedy versus non-greedy make a difference?  What if you&#39;re looking for a\n",
    "non-greedy match but the only one available is greedy?"
   ]
  },
  {
   "cell_type": "code",
   "execution_count": 13,
   "id": "8508fa59",
   "metadata": {},
   "outputs": [
    {
     "name": "stdout",
     "output_type": "stream",
     "text": [
      "Usddfghj\n",
      "Us\n"
     ]
    }
   ],
   "source": [
    "import re\n",
    "s = 'Usddfghj'\n",
    "\n",
    "print(re.match('U.*', s).group()) # Greddy statement\n",
    "print(re.match('U.?', s).group()) # Non greedy statement"
   ]
  },
  {
   "cell_type": "markdown",
   "id": "78768fa4",
   "metadata": {},
   "source": [
    "Q3. In a simple match of a string, which looks only for one match and does not do any replacement, is\n",
    "the use of a nontagged group likely to make any practical difference?"
   ]
  },
  {
   "cell_type": "markdown",
   "id": "94b2438a",
   "metadata": {},
   "source": [
    "Q4. Describe a scenario in which using a nontagged category would have a significant impact on the\n",
    "program's outcomes."
   ]
  },
  {
   "cell_type": "markdown",
   "id": "63ca6dae",
   "metadata": {},
   "source": [
    "We can perform penetration testing for servers, web applications, wireless networks, mobile devices and any other potential point of exposure using manual or automated technologies. Because of penetration testing, if we exploit any kind of vulnerabilities, the same must be forwarded to the IT and the network system manager to reach a strategic conclusion."
   ]
  },
  {
   "cell_type": "markdown",
   "id": "b7188a1b",
   "metadata": {},
   "source": [
    "Q5. Unlike a normal regex pattern, a look-ahead condition does not consume the characters it\n",
    "examines. Describe a situation in which this could make a difference in the results of your\n",
    "programme."
   ]
  },
  {
   "cell_type": "code",
   "execution_count": 17,
   "id": "c2c5c9ce",
   "metadata": {},
   "outputs": [
    {
     "name": "stdout",
     "output_type": "stream",
     "text": [
      "\n",
      "b\n"
     ]
    }
   ],
   "source": [
    "print(re.search('a??b','aacb').group())\n",
    "# Here condition is not matching and not getting output according to our expectations so it makes the differnce in the abve results.\n",
    "print(re.search('a??b','aacb').group())"
   ]
  },
  {
   "cell_type": "markdown",
   "id": "4aff1cde",
   "metadata": {},
   "source": [
    "Q6. In standard expressions, what is the difference between positive look-ahead and negative look-\n",
    "ahead?"
   ]
  },
  {
   "cell_type": "markdown",
   "id": "2e2568eb",
   "metadata": {},
   "source": [
    "this is a negative lookahead, it does not match, it only checks if there is no digit right after the current position in the input string. If there is a digit, the match is failed (not result found and returned)."
   ]
  },
  {
   "cell_type": "markdown",
   "id": "b2584e74",
   "metadata": {},
   "source": [
    "Q7. What is the benefit of referring to groups by name rather than by number in a standard\n",
    "expression?"
   ]
  },
  {
   "cell_type": "code",
   "execution_count": 19,
   "id": "c2cce715",
   "metadata": {},
   "outputs": [
    {
     "ename": "SyntaxError",
     "evalue": "invalid syntax (2610757515.py, line 1)",
     "output_type": "error",
     "traceback": [
      "\u001b[1;36m  Input \u001b[1;32mIn [19]\u001b[1;36m\u001b[0m\n\u001b[1;33m    groupby objects yield key-group pairs where the group is a generator.\u001b[0m\n\u001b[1;37m            ^\u001b[0m\n\u001b[1;31mSyntaxError\u001b[0m\u001b[1;31m:\u001b[0m invalid syntax\n"
     ]
    }
   ],
   "source": [
    "groupby objects yield key-group pairs where the group is a generator.\n",
    "\n",
    "Features\n",
    "\n",
    "A. Group consecutive items together\n",
    "B. Group all occurrences of an item, given a sorted iterable\n",
    "C. Specify how to group items with a key function *"
   ]
  },
  {
   "cell_type": "markdown",
   "id": "cf0c3016",
   "metadata": {},
   "source": [
    "Q8. Can you identify repeated items within a target string using named groups, as in &quot;The cow\n",
    "jumped over the moon&quot;?"
   ]
  },
  {
   "cell_type": "code",
   "execution_count": 20,
   "id": "3a308d20",
   "metadata": {},
   "outputs": [
    {
     "data": {
      "text/plain": [
       "'hh'"
      ]
     },
     "execution_count": 20,
     "metadata": {},
     "output_type": "execute_result"
    }
   ],
   "source": [
    "re.search(r'(.+?)\\1+', \"gadvfh hh sujdu uu dlfkjbii\").group()"
   ]
  },
  {
   "cell_type": "markdown",
   "id": "3ad6d20f",
   "metadata": {},
   "source": [
    "Q9. When parsing a string, what is at least one thing that the Scanner interface does for you that the\n",
    "re.findall feature does not?"
   ]
  },
  {
   "cell_type": "markdown",
   "id": "d4fe73fa",
   "metadata": {},
   "source": [
    "scanner fetches input in these manner with datatype list obj but findall doesn't."
   ]
  },
  {
   "cell_type": "markdown",
   "id": "9c5284bf",
   "metadata": {},
   "source": [
    "Q10. Does a scanner object have to be named scanner?"
   ]
  },
  {
   "cell_type": "markdown",
   "id": "1cab236d",
   "metadata": {},
   "source": [
    "The scanner is a property of the underlying SRE pattern object where the engine keeps matching after it found a match for the next one. There even exists an re.Scanner class (also undocumented) which is built on top of the SRE pattern scanner which gives this a slightly higher level interface.\n",
    "\n",
    "The scanner as it exists in the re module is not very useful unfortunately for making the 'not matching' part faster, but looking at its sourcecode reveals how it's implemented: on top of the SRE primitives."
   ]
  },
  {
   "cell_type": "code",
   "execution_count": null,
   "id": "bc55efb9",
   "metadata": {},
   "outputs": [],
   "source": []
  }
 ],
 "metadata": {
  "kernelspec": {
   "display_name": "Python 3 (ipykernel)",
   "language": "python",
   "name": "python3"
  },
  "language_info": {
   "codemirror_mode": {
    "name": "ipython",
    "version": 3
   },
   "file_extension": ".py",
   "mimetype": "text/x-python",
   "name": "python",
   "nbconvert_exporter": "python",
   "pygments_lexer": "ipython3",
   "version": "3.9.12"
  }
 },
 "nbformat": 4,
 "nbformat_minor": 5
}
