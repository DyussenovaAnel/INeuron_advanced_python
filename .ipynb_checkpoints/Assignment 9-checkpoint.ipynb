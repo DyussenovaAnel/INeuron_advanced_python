{
 "cells": [
  {
   "cell_type": "markdown",
   "id": "4cdc0ec2",
   "metadata": {},
   "source": [
    "Q1. In Python 3.X, what are the names and functions of string object types?"
   ]
  },
  {
   "cell_type": "markdown",
   "id": "ec1d99c5",
   "metadata": {},
   "source": [
    "- capitalize()\tConverts the first character to upper case\n",
    "- casefold()\tConverts string into lower case\n",
    "- center()\tReturns a centered string\n",
    "- count()\tReturns the number of times a specified value occurs in a string\n",
    "- encode()\tReturns an encoded version of the string\n",
    "- endswith()\tReturns true if the string ends with the specified value\n",
    "- expandtabs()\tSets the tab size of the string\n",
    "- find()\tSearches the string for a specified value and returns the position of where it was found"
   ]
  },
  {
   "cell_type": "markdown",
   "id": "063cafc0",
   "metadata": {},
   "source": [
    "Q2. How do the string forms in Python 3.X vary in terms of operations?"
   ]
  },
  {
   "cell_type": "markdown",
   "id": "f9280e12",
   "metadata": {},
   "source": [
    "There are four different ways to perform string formatting in Python:\n",
    "- Formatting with % Operator.\n",
    "- Formatting with format() string method.\n",
    "- Formatting with string literals, called f-strings.\n",
    "- Formatting with String Template Class"
   ]
  },
  {
   "cell_type": "markdown",
   "id": "43736be3",
   "metadata": {},
   "source": [
    "Q3. In 3.X, how do you put non-ASCII Unicode characters in a string?"
   ]
  },
  {
   "cell_type": "markdown",
   "id": "05d77e3c",
   "metadata": {},
   "source": [
    "Python allows Unicode string literals to be specified by adding a u character prefix before the string literal: This will create a Unicode string and the label will be appear correctly."
   ]
  },
  {
   "cell_type": "markdown",
   "id": "8462a11a",
   "metadata": {},
   "source": [
    "Q4. In Python 3.X, what are the key differences between text-mode and binary-mode files?"
   ]
  },
  {
   "cell_type": "markdown",
   "id": "f561701b",
   "metadata": {},
   "source": [
    "There are mainly two types of data files — text file and binary file. A text file consists of human readable characters, which can be opened by any text editor. On the other hand, binary files are made up of non-human readable characters and symbols, which require specific programs to access its contents."
   ]
  },
  {
   "cell_type": "markdown",
   "id": "b624f5e5",
   "metadata": {},
   "source": [
    "Q5. How can you interpret a Unicode text file containing text encoded in a different encoding than\n",
    "your platform's default?"
   ]
  },
  {
   "cell_type": "markdown",
   "id": "3b9ebef9",
   "metadata": {},
   "source": [
    "At a very high level, it’s a way of translating characters (such as letters, punctuation, symbols, whitespace, and control characters) to integers and ultimately to bits. Each character can be encoded to a unique sequence of bits. Don’t worry if you’re shaky on the concept of bits, because we’ll get to them shortly.\n",
    "\n",
    "The various categories outlined represent groups of characters. Each single character has a corresponding code point, which you can think of as just an integer. "
   ]
  },
  {
   "cell_type": "markdown",
   "id": "c4114bff",
   "metadata": {},
   "source": [
    "Q6. What is the best way to make a Unicode text file in a particular encoding format?"
   ]
  },
  {
   "cell_type": "markdown",
   "id": "fac5e846",
   "metadata": {},
   "source": [
    "Deal exclusively with unicode objects as much as possible by decoding things to unicode objects when you first get them and encoding them as necessary on the way out.\n",
    "\n",
    "If your string is actually a unicode object, you'll need to convert it to a unicode-encoded string object before writing it to a file:\n",
    "\n",
    "foo = u'Δ, Й, ק, ‎ م, ๗, あ, 叶, 葉, and 말.'\n",
    "\n",
    "f = open('test', 'w')\n",
    "\n",
    "f.write(foo.encode('utf8'))\n",
    "\n",
    "f.close()"
   ]
  },
  {
   "cell_type": "markdown",
   "id": "8a715d06",
   "metadata": {},
   "source": [
    "Q7. What qualifies ASCII text as a form of Unicode text?"
   ]
  },
  {
   "cell_type": "markdown",
   "id": "2315049e",
   "metadata": {},
   "source": [
    "ASCII encodes symbols, digits, letters, etc., whereas Unicode encodes special texts from different languages, letters, symbols, etc. It can be said that ASCII is a subset of the Unicode encoding scheme."
   ]
  },
  {
   "cell_type": "markdown",
   "id": "4933fdd9",
   "metadata": {},
   "source": [
    "Q8. How much of an effect does the change in string types in Python 3.X have on your code?"
   ]
  },
  {
   "cell_type": "markdown",
   "id": "171689eb",
   "metadata": {},
   "source": [
    "Python 3.0 uses the concepts of text and (binary) data instead of Unicode strings and 8-bit strings. All text is Unicode; however encoded Unicode is represented as binary data. The type used to hold text is str, the type used to hold data is bytes. "
   ]
  },
  {
   "cell_type": "code",
   "execution_count": null,
   "id": "19e32d7b",
   "metadata": {},
   "outputs": [],
   "source": []
  }
 ],
 "metadata": {
  "kernelspec": {
   "display_name": "Python 3 (ipykernel)",
   "language": "python",
   "name": "python3"
  },
  "language_info": {
   "codemirror_mode": {
    "name": "ipython",
    "version": 3
   },
   "file_extension": ".py",
   "mimetype": "text/x-python",
   "name": "python",
   "nbconvert_exporter": "python",
   "pygments_lexer": "ipython3",
   "version": "3.9.12"
  }
 },
 "nbformat": 4,
 "nbformat_minor": 5
}
