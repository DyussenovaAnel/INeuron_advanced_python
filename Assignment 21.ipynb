{
 "cells": [
  {
   "cell_type": "markdown",
   "id": "8f672c33",
   "metadata": {},
   "source": [
    "Q1. What is a probability distribution, exactly? If the values are meant to be random, how can you\n",
    "predict them at all?"
   ]
  },
  {
   "cell_type": "markdown",
   "id": "d8115c61",
   "metadata": {},
   "source": [
    "Probability distribution indicates how probabilities are allocated over the distinct values for an unexpected variable. A probability distribution has various belongings like predicted value and variance which can be calculated. "
   ]
  },
  {
   "cell_type": "markdown",
   "id": "c168b19c",
   "metadata": {},
   "source": [
    "Q2. Is there a distinction between true random numbers and pseudo-random numbers, if there is\n",
    "one? Why are the latter considered “good enough”?"
   ]
  },
  {
   "cell_type": "markdown",
   "id": "4b65d6d3",
   "metadata": {},
   "source": [
    "The difference between true random number generators(TRNGs) and pseudo-random number generators(PRNGs) is that TRNGs use an unpredictable physical means to generate numbers (like atmospheric noise), and PRNGs use mathematical algorithms (completely computer-generated)."
   ]
  },
  {
   "cell_type": "markdown",
   "id": "582d76b7",
   "metadata": {},
   "source": [
    "Q3. What are the two main factors that influence the behaviour of a &quot;normal&quot; probability distribution?"
   ]
  },
  {
   "cell_type": "markdown",
   "id": "c105572c",
   "metadata": {},
   "source": [
    "two main factors mean and standard deviation. "
   ]
  },
  {
   "cell_type": "markdown",
   "id": "699d21f5",
   "metadata": {},
   "source": [
    "Q4. Provide a real-life ex/ample of a normal distribution."
   ]
  },
  {
   "cell_type": "markdown",
   "id": "7fcd7300",
   "metadata": {},
   "source": [
    "Q5. In the short term, how can you expect a probability distribution to behave? What do you think will\n",
    "happen as the number of trials grows?"
   ]
  },
  {
   "cell_type": "markdown",
   "id": "c00ca2cf",
   "metadata": {},
   "source": [
    "A probability distribution for a particular random variable is a function or table of values that maps the outcomes in the sample space to the probabilities of those outcomes. A discrete probability distribution is one which lists the probabilities of random values with integer type or countable values. "
   ]
  },
  {
   "cell_type": "markdown",
   "id": "8f990156",
   "metadata": {},
   "source": [
    "Q6. What kind of object can be shuffled by using random.shuffle?"
   ]
  },
  {
   "cell_type": "markdown",
   "id": "d728885b",
   "metadata": {},
   "source": [
    "The shuffle() is an inbuilt method of the random module. It is used to shuffle a sequence list. Shuffling a list of objects means changing the position of the elements of the sequence "
   ]
  },
  {
   "cell_type": "markdown",
   "id": "9fd594b2",
   "metadata": {},
   "source": [
    "Q7. Describe the math package's general categories of functions."
   ]
  },
  {
   "cell_type": "markdown",
   "id": "10f4d46a",
   "metadata": {},
   "source": [
    "Sometimes when working with some kind of financial or scientific projects it becomes necessary to implement mathematical calculations in the project. Python provides the math module to deal with such calculations. Math module provides functions to deal with both basic operations such as addition(+), subtraction(-), multiplication(*), division(/) and advance operations like trigonometric, logarithmic, exponential functions."
   ]
  },
  {
   "cell_type": "markdown",
   "id": "26ece7d5",
   "metadata": {},
   "source": [
    "Q8. What is the relationship between exponentiation and logarithms?"
   ]
  },
  {
   "cell_type": "markdown",
   "id": "3eea4240",
   "metadata": {},
   "source": [
    "Logarithmic functions are the inverses of exponential functions. "
   ]
  },
  {
   "cell_type": "markdown",
   "id": "65acb271",
   "metadata": {},
   "source": [
    "Q9. What are the three logarithmic functions that Python supports?"
   ]
  },
  {
   "cell_type": "markdown",
   "id": "8fd3162b",
   "metadata": {},
   "source": [
    "log2(x) log(x, Base) log10(x) "
   ]
  },
  {
   "cell_type": "code",
   "execution_count": null,
   "id": "4cec96c9",
   "metadata": {},
   "outputs": [],
   "source": []
  }
 ],
 "metadata": {
  "kernelspec": {
   "display_name": "Python 3 (ipykernel)",
   "language": "python",
   "name": "python3"
  },
  "language_info": {
   "codemirror_mode": {
    "name": "ipython",
    "version": 3
   },
   "file_extension": ".py",
   "mimetype": "text/x-python",
   "name": "python",
   "nbconvert_exporter": "python",
   "pygments_lexer": "ipython3",
   "version": "3.9.12"
  }
 },
 "nbformat": 4,
 "nbformat_minor": 5
}
