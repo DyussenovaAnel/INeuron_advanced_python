{
 "cells": [
  {
   "cell_type": "markdown",
   "id": "6c179095",
   "metadata": {},
   "source": [
    "Q1. What is the benefit of regular expressions?"
   ]
  },
  {
   "cell_type": "markdown",
   "id": "517ff07e",
   "metadata": {},
   "source": [
    "allows you to create patterns that are used to match, locate and manage texts. \n",
    "\n",
    "Search and replace utility of word processors and text editors\n",
    "\n",
    "Lexical analysis"
   ]
  },
  {
   "cell_type": "markdown",
   "id": "ccf661b1",
   "metadata": {},
   "source": [
    "Q2. Describe the difference between the effects of \"(ab)c+\" and \"a(bc)+\" Which of these, if any, is the\n",
    "unqualified pattern \"abc+\"?"
   ]
  },
  {
   "cell_type": "markdown",
   "id": "eae02812",
   "metadata": {},
   "source": [
    "Q3. How much do you need to use the following sentence while using regular expressions?\n",
    "\n",
    "import re"
   ]
  },
  {
   "cell_type": "markdown",
   "id": "67345a6b",
   "metadata": {},
   "source": [
    "once while importing re librery"
   ]
  },
  {
   "cell_type": "markdown",
   "id": "1d6a2d96",
   "metadata": {},
   "source": [
    "Q4. Which characters have special significance in square brackets when expressing a range, and\n",
    "under what circumstances?"
   ]
  },
  {
   "cell_type": "markdown",
   "id": "25787480",
   "metadata": {},
   "source": [
    "set of characters inside a pair of square brackets [] with a special meaning"
   ]
  },
  {
   "cell_type": "markdown",
   "id": "075480a8",
   "metadata": {},
   "source": [
    "Q5. How does compiling a regular-expression object benefit you?"
   ]
  },
  {
   "cell_type": "markdown",
   "id": "155c5031",
   "metadata": {},
   "source": [
    "benefit to re.compile is being able to separate definition of the regex from its use."
   ]
  },
  {
   "cell_type": "markdown",
   "id": "4ab7eba7",
   "metadata": {},
   "source": [
    "Q6. What are some examples of how to use the match object returned by re.match and re.search?"
   ]
  },
  {
   "cell_type": "markdown",
   "id": "1b382440",
   "metadata": {},
   "source": [
    "re.match is anchored at the beginning of the string. That has nothing to do with newlines, so it is not the same as using ^ in the pattern.\n",
    "\n",
    "re.search searches the entire string\n",
    "\n",
    "So if you need to match at the beginning of the string, or to match the entire string use match. It is faster. Otherwise use search."
   ]
  },
  {
   "cell_type": "markdown",
   "id": "7ab846fd",
   "metadata": {},
   "source": [
    "Q7. What is the difference between using a vertical bar (|) as an alteration and using square brackets\n",
    "as a character set?"
   ]
  },
  {
   "cell_type": "markdown",
   "id": "eb45ef01",
   "metadata": {},
   "source": [
    "The only difference between parentheses in Python regexps (and perl-compatible regexps in general), and parentheses in formal regular expressions, is that in Python, parens store their result. Everything matched by a regular expression inside parentheses is stored as a \"submatch\" or \"group\" that you can access using the group method on the match object returned by re.match, re.search, or re.finditer. "
   ]
  },
  {
   "cell_type": "markdown",
   "id": "d6fbb80b",
   "metadata": {},
   "source": [
    "Q8. In regular-expression search patterns, why is it necessary to use the raw-string indicator (r)? In  \n",
    "replacement strings?"
   ]
  },
  {
   "cell_type": "markdown",
   "id": "0db5adf9",
   "metadata": {},
   "source": [
    "r designates a raw string in Python, which has different rules than a standard string, such as you don't have to escape backslashes and other special chars."
   ]
  },
  {
   "cell_type": "code",
   "execution_count": null,
   "id": "09857683",
   "metadata": {},
   "outputs": [],
   "source": []
  }
 ],
 "metadata": {
  "kernelspec": {
   "display_name": "Python 3 (ipykernel)",
   "language": "python",
   "name": "python3"
  },
  "language_info": {
   "codemirror_mode": {
    "name": "ipython",
    "version": 3
   },
   "file_extension": ".py",
   "mimetype": "text/x-python",
   "name": "python",
   "nbconvert_exporter": "python",
   "pygments_lexer": "ipython3",
   "version": "3.9.12"
  }
 },
 "nbformat": 4,
 "nbformat_minor": 5
}
