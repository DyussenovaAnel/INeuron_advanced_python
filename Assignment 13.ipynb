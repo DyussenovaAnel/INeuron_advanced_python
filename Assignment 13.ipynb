{
 "cells": [
  {
   "cell_type": "markdown",
   "id": "8abd8f78",
   "metadata": {},
   "source": [
    "Q1. Can you create a programme or function that employs both positive and negative indexing? Is\n",
    "there any repercussion if you do so?"
   ]
  },
  {
   "cell_type": "markdown",
   "id": "e77c1614",
   "metadata": {},
   "source": [
    "we can get negative indexing using reverse [::-1]"
   ]
  },
  {
   "cell_type": "markdown",
   "id": "1b6cd4b0",
   "metadata": {},
   "source": [
    "Q2. What is the most effective way of starting with 1,000 elements in a Python list? Assume that all\n",
    "elements should be set to the same value."
   ]
  },
  {
   "cell_type": "code",
   "execution_count": 2,
   "id": "08ddbbe8",
   "metadata": {},
   "outputs": [
    {
     "name": "stdout",
     "output_type": "stream",
     "text": [
      "range(0, 1000)\n"
     ]
    }
   ],
   "source": [
    "i = range(1000)\n",
    "print(i)"
   ]
  },
  {
   "cell_type": "markdown",
   "id": "c41da413",
   "metadata": {},
   "source": [
    "Q3. How do you slice a list to get any other part while missing the rest? (For example, suppose you\n",
    "want to make a new list with the elements first, third, fifth, seventh, and so on.)"
   ]
  },
  {
   "cell_type": "code",
   "execution_count": 3,
   "id": "2dd0a30e",
   "metadata": {},
   "outputs": [
    {
     "name": "stdout",
     "output_type": "stream",
     "text": [
      "[1, 3, 5, 7, 9]\n"
     ]
    }
   ],
   "source": [
    "arr = [1, 2, 3, 4,5 , 6, 7, 8, 9,10]\n",
    "print(arr[::2])"
   ]
  },
  {
   "cell_type": "markdown",
   "id": "475dee38",
   "metadata": {},
   "source": [
    "Q4. Explain the distinctions between indexing and slicing."
   ]
  },
  {
   "cell_type": "markdown",
   "id": "d33d9b80",
   "metadata": {},
   "source": [
    "slicing is getting a subset or substring. from one to many elements\n",
    "\n",
    "indexing is getting one specific element"
   ]
  },
  {
   "cell_type": "markdown",
   "id": "c5d2e392",
   "metadata": {},
   "source": [
    "Q5. What happens if one of the slicing expression&#39;s indexes is out of range?"
   ]
  },
  {
   "cell_type": "markdown",
   "id": "03164251",
   "metadata": {},
   "source": [
    "The slicing operation doesn't raise an error if both your start and stop indices are larger than the sequence length. "
   ]
  },
  {
   "cell_type": "markdown",
   "id": "54ef6ef3",
   "metadata": {},
   "source": [
    "Q6. If you pass a list to a function, and if you want the function to be able to change the values of the\n",
    "list—so that the list is different after the function returns—what action should you avoid?"
   ]
  },
  {
   "cell_type": "markdown",
   "id": "37175fbf",
   "metadata": {},
   "source": [
    "Q7. What is the concept of an unbalanced matrix?"
   ]
  },
  {
   "cell_type": "markdown",
   "id": "8d090fb5",
   "metadata": {},
   "source": [
    "For each cell of the matrix check if all the adjacent cells i.e., mat[i+1][j], mat[i][j+1], mat[i-1][j], mat[i][j-1] are strictly smaller than the current cell.\n",
    "\n",
    "For the corner cells of the matrix, there are only two adjacent cells i.e., mat[i+1][j] and mat[i][j+1] check if all these adjacent cells are strictly smaller than the corner cell.\n",
    "\n",
    "For border cell of the matrix, there are 3 adjacent cells i.e., mat[i-1][j], mat[i+1][j], and mat[i][j+1] check if all these adjacent cells are strictly smaller than the border cell.\n",
    "\n",
    "If all the above conditions are true for all the cells of the matrix then print “Balanced” else print “Unbalanced”."
   ]
  },
  {
   "cell_type": "markdown",
   "id": "68bf78f1",
   "metadata": {},
   "source": [
    "Q8. Why is it necessary to use either list comprehension or a loop to create arbitrarily large matrices?"
   ]
  },
  {
   "cell_type": "markdown",
   "id": "281911b8",
   "metadata": {},
   "source": [
    "using iterations we can create any form of matrix"
   ]
  },
  {
   "cell_type": "code",
   "execution_count": null,
   "id": "498b69ce",
   "metadata": {},
   "outputs": [],
   "source": []
  }
 ],
 "metadata": {
  "kernelspec": {
   "display_name": "Python 3 (ipykernel)",
   "language": "python",
   "name": "python3"
  },
  "language_info": {
   "codemirror_mode": {
    "name": "ipython",
    "version": 3
   },
   "file_extension": ".py",
   "mimetype": "text/x-python",
   "name": "python",
   "nbconvert_exporter": "python",
   "pygments_lexer": "ipython3",
   "version": "3.9.12"
  }
 },
 "nbformat": 4,
 "nbformat_minor": 5
}
