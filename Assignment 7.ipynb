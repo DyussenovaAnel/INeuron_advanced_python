{
 "cells": [
  {
   "cell_type": "markdown",
   "id": "d50ce9e0",
   "metadata": {},
   "source": [
    "**Q1. What is the purpose of the try statement?**"
   ]
  },
  {
   "cell_type": "markdown",
   "id": "17d85196",
   "metadata": {},
   "source": [
    "In try statement is a block of code, which we want to execute properly or test for errors "
   ]
  },
  {
   "cell_type": "markdown",
   "id": "c3635363",
   "metadata": {},
   "source": [
    "**Q2. What are the two most popular try statement variations?**"
   ]
  },
  {
   "cell_type": "markdown",
   "id": "5a83a422",
   "metadata": {},
   "source": [
    "- The try-except block. try ia a block contains code that we want to test to errors, except id a lock of code which will be executed if error will occure \n",
    "\n",
    "- The try-finally block. try ia a block contains code that we want to test to errors, and finally will be executed anyway arror occure or not."
   ]
  },
  {
   "cell_type": "markdown",
   "id": "e4a13751",
   "metadata": {},
   "source": [
    "**Q3. What is the purpose of the raise statement?**"
   ]
  },
  {
   "cell_type": "markdown",
   "id": "4e0810e7",
   "metadata": {},
   "source": [
    "Is to raise an exception. This allows you to explicitly trigger an exception in your code, and specify how the exception should be handled. "
   ]
  },
  {
   "cell_type": "markdown",
   "id": "bfc575f8",
   "metadata": {},
   "source": [
    "**Q4. What does the assert statement do, and what other statement is it like?**"
   ]
  },
  {
   "cell_type": "markdown",
   "id": "ecccb5da",
   "metadata": {},
   "source": [
    "The assert statement allows to test a condition, and trigger an AssertionError exception if the condition evaluates to False. The assert statement is similar to the if statement, as it allows you to specify a condition and take different actions depending on whether the condition is True or False."
   ]
  },
  {
   "cell_type": "markdown",
   "id": "cc1e217f",
   "metadata": {},
   "source": [
    "**Q5. What is the purpose of the with/as argument, and what other statement is it like?**"
   ]
  },
  {
   "cell_type": "markdown",
   "id": "1ac58d69",
   "metadata": {},
   "source": [
    "\"with\" is usually useful for managing resources, such as files or network connections, and ensuring that they are properly closed and released when they are no longer needed. \"as\" statement goes with \"with\" and followed by a variable that will be bound to the object returned by the expression. "
   ]
  },
  {
   "cell_type": "code",
   "execution_count": null,
   "id": "7895d6ba",
   "metadata": {},
   "outputs": [],
   "source": []
  }
 ],
 "metadata": {
  "kernelspec": {
   "display_name": "Python 3 (ipykernel)",
   "language": "python",
   "name": "python3"
  },
  "language_info": {
   "codemirror_mode": {
    "name": "ipython",
    "version": 3
   },
   "file_extension": ".py",
   "mimetype": "text/x-python",
   "name": "python",
   "nbconvert_exporter": "python",
   "pygments_lexer": "ipython3",
   "version": "3.9.12"
  }
 },
 "nbformat": 4,
 "nbformat_minor": 5
}
