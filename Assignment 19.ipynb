{
 "cells": [
  {
   "cell_type": "markdown",
   "id": "40fcf5e2",
   "metadata": {},
   "source": [
    "Q1. Define the relationship between a class and its instances. Is it a one-to-one or a one-to-many\n",
    "partnership, for example?"
   ]
  },
  {
   "cell_type": "markdown",
   "id": "d0895835",
   "metadata": {},
   "source": [
    "A class is a set of entities, which are called the instances of the class. An entity can be an instance of many classes, which are called its types, and a class can be a type of many classes."
   ]
  },
  {
   "cell_type": "markdown",
   "id": "824517de",
   "metadata": {},
   "source": [
    "Q2. What kind of data is held only in an instance?"
   ]
  },
  {
   "cell_type": "markdown",
   "id": "495334ef",
   "metadata": {},
   "source": [
    "python can held any datatype as an instance like list,tuple,duict,set,int,float,bool,"
   ]
  },
  {
   "cell_type": "markdown",
   "id": "eafbc297",
   "metadata": {},
   "source": [
    "Q3. What kind of knowledge is stored in a class?"
   ]
  },
  {
   "cell_type": "markdown",
   "id": "1faa8de6",
   "metadata": {},
   "source": [
    "constructor function, methods, variavles, attributes"
   ]
  },
  {
   "cell_type": "markdown",
   "id": "3550d67f",
   "metadata": {},
   "source": [
    "Q4. What exactly is a method, and how is it different from a regular function?"
   ]
  },
  {
   "cell_type": "markdown",
   "id": "eda2ea6d",
   "metadata": {},
   "source": [
    "Methods are associated with the objects of the class they belong to. Functions are not associated with any object. "
   ]
  },
  {
   "cell_type": "markdown",
   "id": "ba07d4b2",
   "metadata": {},
   "source": [
    "Q5. Is inheritance supported in Python, and if so, what is the syntax?"
   ]
  },
  {
   "cell_type": "code",
   "execution_count": 4,
   "id": "6dc44b14",
   "metadata": {},
   "outputs": [],
   "source": [
    "class Person(object):\n",
    " \n",
    "    # __init__ is known as the constructor\n",
    "    def __init__(self, name, idnumber):\n",
    "        self.name = name\n",
    "        self.idnumber = idnumber\n",
    " \n",
    "    def display(self):\n",
    "        print(self.name)\n",
    "        print(self.idnumber)\n",
    " \n",
    "# child class\n",
    " \n",
    "class Employee(Person):\n",
    "    def __init__(self, name, idnumber, salary, post):\n",
    "        self.salary = salary\n",
    "        self.post = post\n",
    " \n",
    "        # invoking the __init__ of the parent class\n",
    "        Person.__init__(self, name, idnumber)"
   ]
  },
  {
   "cell_type": "markdown",
   "id": "74cf5adc",
   "metadata": {},
   "source": [
    "Q6. How much encapsulation (making instance or class variables private) does Python support?"
   ]
  },
  {
   "cell_type": "markdown",
   "id": "7af21f5d",
   "metadata": {},
   "source": [
    "Python has encapsulation - you are using it in your class.\n",
    "\n",
    "What it doesn't have is access control such as private and protected attributes. However, in Python, there is an attribute naming convention to denote private attributes by prefixing the attribute with one or two underscores"
   ]
  },
  {
   "cell_type": "markdown",
   "id": "1dce7210",
   "metadata": {},
   "source": [
    "Q7. How do you distinguish between a class variable and an instance variable?"
   ]
  },
  {
   "cell_type": "markdown",
   "id": "dc6c9d61",
   "metadata": {},
   "source": [
    "After a class instance is created, anything with a reference to the instance can create instance attributes on it. Inside methods, the \"current\" instance is almost always bound to the name self, which is why you are thinking of these as \"self variables\"."
   ]
  },
  {
   "cell_type": "markdown",
   "id": "87add5bf",
   "metadata": {},
   "source": [
    "Q8. When, if ever, can self be included in a class&#39;s method definitions?"
   ]
  },
  {
   "cell_type": "markdown",
   "id": "64e1b7c1",
   "metadata": {},
   "source": [
    "The reason you need to use self. is because Python does not use special syntax to refer to instance attributes. Python decided to do methods in a way that makes the instance to which the method belongs be passed automatically, but not received automatically: the first parameter of methods is the instance the method is called on. That makes methods entirely the same as functions, and leaves the actual name to use up to you (although self is the convention, and people will generally frown at you when you use something else.) self is not special to the code, it's just another object."
   ]
  },
  {
   "cell_type": "markdown",
   "id": "e9a770c8",
   "metadata": {},
   "source": [
    "Q9. What is the difference between the _ _add_ _ and the _ _radd_ _ methods?"
   ]
  },
  {
   "cell_type": "markdown",
   "id": "2a6b14d5",
   "metadata": {},
   "source": [
    "The result is equivalent. The real difference you'll see when performing operations like subtraction or division, since they have no commutative property. Addition operation has a commutative property"
   ]
  },
  {
   "cell_type": "markdown",
   "id": "21288440",
   "metadata": {},
   "source": [
    "Q10. When is it necessary to use a reflection method? When do you not need it, even though you\n",
    "support the operation in question?"
   ]
  },
  {
   "cell_type": "markdown",
   "id": "094cba3f",
   "metadata": {},
   "source": [
    "Reflection gives us information about the class to which an object belongs and also the methods of that class which can be executed by using the object. Through reflection we can invoke methods at runtime irrespective of the access specifier used with them."
   ]
  },
  {
   "cell_type": "markdown",
   "id": "a3cb1e89",
   "metadata": {},
   "source": [
    "Q11. What is the _ _iadd_ _ method called?"
   ]
  },
  {
   "cell_type": "markdown",
   "id": "0f0ed74f",
   "metadata": {},
   "source": [
    "it is a += operation"
   ]
  },
  {
   "cell_type": "markdown",
   "id": "b843c635",
   "metadata": {},
   "source": [
    "Q12. Is the _ _init_ _ method inherited by subclasses? What do you do if you need to customize its\n",
    "behavior within a subclass?"
   ]
  },
  {
   "cell_type": "markdown",
   "id": "ae8120e6",
   "metadata": {},
   "source": [
    "Use a metaclass, like @classmethod"
   ]
  },
  {
   "cell_type": "code",
   "execution_count": null,
   "id": "0e674a33",
   "metadata": {},
   "outputs": [],
   "source": []
  }
 ],
 "metadata": {
  "kernelspec": {
   "display_name": "Python 3 (ipykernel)",
   "language": "python",
   "name": "python3"
  },
  "language_info": {
   "codemirror_mode": {
    "name": "ipython",
    "version": 3
   },
   "file_extension": ".py",
   "mimetype": "text/x-python",
   "name": "python",
   "nbconvert_exporter": "python",
   "pygments_lexer": "ipython3",
   "version": "3.9.12"
  }
 },
 "nbformat": 4,
 "nbformat_minor": 5
}
