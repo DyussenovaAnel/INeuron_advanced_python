{
 "cells": [
  {
   "cell_type": "markdown",
   "id": "f05fb904",
   "metadata": {},
   "source": [
    "Q1. What is the purpose of Python's OOP?"
   ]
  },
  {
   "cell_type": "markdown",
   "id": "20b5eb6f",
   "metadata": {},
   "source": [
    "OOP - object oriented programming. Using oop we can create customized object, define for this object parameters and methods. "
   ]
  },
  {
   "cell_type": "markdown",
   "id": "fb58a712",
   "metadata": {},
   "source": [
    "Q2. Where does an inheritance search look for an attribute?\n",
    "\n",
    "In the parent class"
   ]
  },
  {
   "cell_type": "markdown",
   "id": "e53eee43",
   "metadata": {},
   "source": [
    "Q3. How do you distinguish between a class object and an instance object?\n",
    "\n",
    "Class it is a blueprint, using which we can create instance object."
   ]
  },
  {
   "cell_type": "markdown",
   "id": "9e15f4d7",
   "metadata": {},
   "source": [
    "Q4. What makes the first argument in a class’s method function special?\n",
    "\n",
    "in python first argument for methods is - self. self it is like on object (which calling method) itself. We can get object atributes using self"
   ]
  },
  {
   "cell_type": "markdown",
   "id": "e4e0ed09",
   "metadata": {},
   "source": [
    "Q5. What is the purpose of the __init__ method?\n",
    "\n",
    "__init__ is a constructor of a class. in this method define \n"
   ]
  },
  {
   "cell_type": "markdown",
   "id": "b493e49b",
   "metadata": {},
   "source": [
    "Q6. What is the process for creating a class instance?\n",
    "\n",
    "We call class and give it parameters\n",
    "name_object =  MyObject(par1, par2, par3)"
   ]
  },
  {
   "cell_type": "markdown",
   "id": "d3f9ce0f",
   "metadata": {},
   "source": [
    "Q7. What is the process for creating a class?"
   ]
  },
  {
   "cell_type": "code",
   "execution_count": 6,
   "id": "532527ba",
   "metadata": {},
   "outputs": [
    {
     "data": {
      "text/plain": [
       "<__main__.MyObject at 0x22b4bfd1ac0>"
      ]
     },
     "execution_count": 6,
     "metadata": {},
     "output_type": "execute_result"
    }
   ],
   "source": [
    "class MyObject:  #using class statement we create class \n",
    "    def __init__(self, name): #constructor \n",
    "        self.name = name\n",
    "\n",
    "mo = MyObject('object1') #example for Q6\n",
    "mo"
   ]
  },
  {
   "cell_type": "markdown",
   "id": "91dd2415",
   "metadata": {},
   "source": [
    "Q8. How would you define the superclasses of a class?\n",
    "\n",
    "The reason we use super is so that child classes that may be using cooperative multiple inheritance will call the correct next parent class function in the Method Resolution Order (MRO)."
   ]
  },
  {
   "cell_type": "code",
   "execution_count": 11,
   "id": "0a92f542",
   "metadata": {},
   "outputs": [
    {
     "data": {
      "text/plain": [
       "'object1'"
      ]
     },
     "execution_count": 11,
     "metadata": {},
     "output_type": "execute_result"
    }
   ],
   "source": [
    "class MyObjecttwo(MyObject):\n",
    "     def __init__(self, name): #constructor \n",
    "        super().__init__(name)\n",
    "\n",
    "mo2 = MyObjecttwo('object1') \n",
    "mo2.name"
   ]
  },
  {
   "cell_type": "code",
   "execution_count": null,
   "id": "1b7b3d64",
   "metadata": {},
   "outputs": [],
   "source": []
  }
 ],
 "metadata": {
  "kernelspec": {
   "display_name": "Python 3 (ipykernel)",
   "language": "python",
   "name": "python3"
  },
  "language_info": {
   "codemirror_mode": {
    "name": "ipython",
    "version": 3
   },
   "file_extension": ".py",
   "mimetype": "text/x-python",
   "name": "python",
   "nbconvert_exporter": "python",
   "pygments_lexer": "ipython3",
   "version": "3.9.12"
  }
 },
 "nbformat": 4,
 "nbformat_minor": 5
}
