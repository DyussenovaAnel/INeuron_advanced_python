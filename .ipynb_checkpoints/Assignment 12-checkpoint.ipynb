{
 "cells": [
  {
   "cell_type": "markdown",
   "id": "c1c60b60",
   "metadata": {},
   "source": [
    "Q1. Does assigning a value to a string's indexed character violate Python&#39;s string immutability?"
   ]
  },
  {
   "cell_type": "markdown",
   "id": "aba7f782",
   "metadata": {},
   "source": [
    "Immutable strings can be keys in dictionaries and similar data structures, without the need to copy the strings. It is easier to make a mutable wrapper around an immutable string than the other way around."
   ]
  },
  {
   "cell_type": "markdown",
   "id": "55800b0a",
   "metadata": {},
   "source": [
    "Q2. Does using the += operator to concatenate strings violate Python&#39;s string immutability? Why or\n",
    "why not?"
   ]
  },
  {
   "cell_type": "markdown",
   "id": "f94d3a23",
   "metadata": {},
   "source": [
    "If you were correct about this string being mutable, then adding\n",
    "\n",
    "b = a\n",
    "before your second a += '1' should not have any effect on your output. But it does.\n",
    "\n",
    "The reason is that because the string a had before the \"increment\" is no longer used anywhere, the id can be re-used. But by assigning that string to b, it now is used somewhere, and the new string for a can't re-use that id."
   ]
  },
  {
   "cell_type": "markdown",
   "id": "e07c687f",
   "metadata": {},
   "source": [
    "Q3. In Python, how many different ways are there to index a character?"
   ]
  },
  {
   "cell_type": "markdown",
   "id": "f0ae42d8",
   "metadata": {},
   "source": [
    "find() and index()"
   ]
  },
  {
   "cell_type": "markdown",
   "id": "3cb7a1a8",
   "metadata": {},
   "source": [
    "Q4. What is the relationship between indexing and slicing?"
   ]
  },
  {
   "cell_type": "markdown",
   "id": "56f8bacb",
   "metadata": {},
   "source": [
    "Slice objects also behave slightly differently depending on the number of arguments, similarly to range(), i.e. both slice(stop) and slice(start, stop[, step]) are supported. To skip specifying a given argument, one might use None, so that e.g. a[start:] is equivalent to a[slice(start, None)] or a[::-1] is equivalent to a[slice(None, None, -1)]."
   ]
  },
  {
   "cell_type": "markdown",
   "id": "e5836a12",
   "metadata": {},
   "source": [
    "Q5. What is an indexed character's exact data type? What is the data form of a slicing-generated\n",
    "substring?"
   ]
  },
  {
   "cell_type": "markdown",
   "id": "c0571ae6",
   "metadata": {},
   "source": [
    "Strings are one of the data types Python considers immutable, meaning not able to be changed. In fact, all the data types you have seen so far are immutable. \n",
    "\n",
    "indexed character's exact data type is string \n",
    "\n",
    "and slicing-generated substring is a list"
   ]
  },
  {
   "cell_type": "markdown",
   "id": "d838e48a",
   "metadata": {},
   "source": [
    "Q6. What is the relationship between string and character &quot;types&quot; in Python?"
   ]
  },
  {
   "cell_type": "markdown",
   "id": "3b494caa",
   "metadata": {},
   "source": [
    "In Python, Strings are arrays of bytes representing Unicode characters. A string is a collection of one or more characters put in a single quote, double-quote or triple quote. In python there is no character data type, a character is a string of length one. It is represented by str class."
   ]
  },
  {
   "cell_type": "markdown",
   "id": "8b783199",
   "metadata": {},
   "source": [
    "Q7. Identify at least two operators and one method that allow you to combine one or more smaller\n",
    "strings to create a larger string."
   ]
  },
  {
   "cell_type": "markdown",
   "id": "e61aefca",
   "metadata": {},
   "source": [
    "-Using the % operator\n",
    "\n",
    "-Using the f-string"
   ]
  },
  {
   "cell_type": "markdown",
   "id": "be08c4be",
   "metadata": {},
   "source": [
    "Q8. What is the benefit of first checking the target string with in or not in before using the index\n",
    "method to find a substring?"
   ]
  },
  {
   "cell_type": "markdown",
   "id": "9e0d252c",
   "metadata": {},
   "source": [
    "code will trough an error if we index method would not found substring"
   ]
  },
  {
   "cell_type": "markdown",
   "id": "1bc6eda9",
   "metadata": {},
   "source": [
    "Q9. Which operators and built-in string methods produce simple Boolean (true/false) results?"
   ]
  },
  {
   "cell_type": "markdown",
   "id": "c239d542",
   "metadata": {},
   "source": [
    "equal ==\n",
    "\n",
    "not equal !=\n",
    "\n",
    "less than<\n",
    "\n",
    "bigger than>\n",
    "\n",
    "less or equal then<=\n",
    "\n",
    "bigeer or equal than >="
   ]
  },
  {
   "cell_type": "code",
   "execution_count": null,
   "id": "9a60aa36",
   "metadata": {},
   "outputs": [],
   "source": []
  }
 ],
 "metadata": {
  "kernelspec": {
   "display_name": "Python 3 (ipykernel)",
   "language": "python",
   "name": "python3"
  },
  "language_info": {
   "codemirror_mode": {
    "name": "ipython",
    "version": 3
   },
   "file_extension": ".py",
   "mimetype": "text/x-python",
   "name": "python",
   "nbconvert_exporter": "python",
   "pygments_lexer": "ipython3",
   "version": "3.9.12"
  }
 },
 "nbformat": 4,
 "nbformat_minor": 5
}
