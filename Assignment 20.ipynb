{
 "cells": [
  {
   "cell_type": "markdown",
   "id": "ae0b2e60",
   "metadata": {},
   "source": [
    "1. Compare and contrast the float and Decimal classes benefits and drawbacks."
   ]
  },
  {
   "cell_type": "code",
   "execution_count": 1,
   "id": "14d79431",
   "metadata": {},
   "outputs": [],
   "source": [
    "import decimal\n",
    "x = decimal.Decimal(\"0.1\") # we can use a string to declaire "
   ]
  },
  {
   "cell_type": "code",
   "execution_count": 2,
   "id": "b594da67",
   "metadata": {},
   "outputs": [],
   "source": [
    "# The sqrt method allows us to get the square root of any Decimal with the designated level of precision.\n",
    "decimal.getcontext().prec = 15\n",
    "x = decimal.Decimal(2).sqrt()"
   ]
  },
  {
   "cell_type": "code",
   "execution_count": 3,
   "id": "b36d66fe",
   "metadata": {},
   "outputs": [],
   "source": [
    "# The quantize method is used to change a Decimal object to a new exponent.\n",
    "x = decimal.Decimal(\"1.41421356\")\n",
    "y = x.quantize(decimal.Decimal(\"1.000\"))"
   ]
  },
  {
   "cell_type": "markdown",
   "id": "c1a5e5fb",
   "metadata": {},
   "source": [
    "2. Decimal(\"1.200\") and Decimal(\"1.2\") are two objects to consider. In what sense are these the same\n",
    "object? Are these just two ways of representing the exact same value, or do they correspond to\n",
    "different internal states?"
   ]
  },
  {
   "cell_type": "code",
   "execution_count": 4,
   "id": "68c0cde3",
   "metadata": {},
   "outputs": [
    {
     "data": {
      "text/plain": [
       "Decimal('1.200')"
      ]
     },
     "execution_count": 4,
     "metadata": {},
     "output_type": "execute_result"
    }
   ],
   "source": [
    "decimal.Decimal(\"1.200\")"
   ]
  },
  {
   "cell_type": "code",
   "execution_count": 6,
   "id": "d89b5676",
   "metadata": {},
   "outputs": [
    {
     "data": {
      "text/plain": [
       "Decimal('1.2')"
      ]
     },
     "execution_count": 6,
     "metadata": {},
     "output_type": "execute_result"
    }
   ],
   "source": [
    "decimal.Decimal(\"1.2\")"
   ]
  },
  {
   "cell_type": "markdown",
   "id": "63399632",
   "metadata": {},
   "source": [
    "they correspond to different internal states"
   ]
  },
  {
   "cell_type": "markdown",
   "id": "695ed674",
   "metadata": {},
   "source": [
    "3. What happens if the equality of Decimal(\"1.200\") and Decimal(\"1.2\") is checked?"
   ]
  },
  {
   "cell_type": "code",
   "execution_count": 8,
   "id": "f79fb4f4",
   "metadata": {},
   "outputs": [
    {
     "data": {
      "text/plain": [
       "True"
      ]
     },
     "execution_count": 8,
     "metadata": {},
     "output_type": "execute_result"
    }
   ],
   "source": [
    "decimal.Decimal(\"1.200\") == decimal.Decimal(\"1.2\")"
   ]
  },
  {
   "cell_type": "markdown",
   "id": "89c03bc2",
   "metadata": {},
   "source": [
    "4. Why is it preferable to start a Decimal object with a string rather than a floating-point value?"
   ]
  },
  {
   "cell_type": "code",
   "execution_count": 9,
   "id": "cbefa77c",
   "metadata": {},
   "outputs": [
    {
     "data": {
      "text/plain": [
       "Decimal('1.200')"
      ]
     },
     "execution_count": 9,
     "metadata": {},
     "output_type": "execute_result"
    }
   ],
   "source": [
    "decimal.Decimal(\"1.200\")"
   ]
  },
  {
   "cell_type": "code",
   "execution_count": 10,
   "id": "45ca0f21",
   "metadata": {},
   "outputs": [
    {
     "data": {
      "text/plain": [
       "Decimal('1.1999999999999999555910790149937383830547332763671875')"
      ]
     },
     "execution_count": 10,
     "metadata": {},
     "output_type": "execute_result"
    }
   ],
   "source": [
    "decimal.Decimal(1.200)"
   ]
  },
  {
   "cell_type": "markdown",
   "id": "6e878480",
   "metadata": {},
   "source": [
    "string show exact number, float not"
   ]
  },
  {
   "cell_type": "markdown",
   "id": "b6a105bd",
   "metadata": {},
   "source": [
    "5. In an arithmetic phrase, how simple is it to combine Decimal objects with integers?"
   ]
  },
  {
   "cell_type": "code",
   "execution_count": 11,
   "id": "ef82f907",
   "metadata": {},
   "outputs": [
    {
     "data": {
      "text/plain": [
       "Decimal('2.200')"
      ]
     },
     "execution_count": 11,
     "metadata": {},
     "output_type": "execute_result"
    }
   ],
   "source": [
    "decimal.Decimal(\"1.200\")+1"
   ]
  },
  {
   "cell_type": "markdown",
   "id": "1a7bdb45",
   "metadata": {},
   "source": [
    "6. Can Decimal objects and floating-point values be combined easily?"
   ]
  },
  {
   "cell_type": "code",
   "execution_count": 12,
   "id": "414ed154",
   "metadata": {},
   "outputs": [
    {
     "ename": "TypeError",
     "evalue": "unsupported operand type(s) for +: 'decimal.Decimal' and 'float'",
     "output_type": "error",
     "traceback": [
      "\u001b[1;31m---------------------------------------------------------------------------\u001b[0m",
      "\u001b[1;31mTypeError\u001b[0m                                 Traceback (most recent call last)",
      "Input \u001b[1;32mIn [12]\u001b[0m, in \u001b[0;36m<cell line: 1>\u001b[1;34m()\u001b[0m\n\u001b[1;32m----> 1\u001b[0m \u001b[43mdecimal\u001b[49m\u001b[38;5;241;43m.\u001b[39;49m\u001b[43mDecimal\u001b[49m\u001b[43m(\u001b[49m\u001b[38;5;124;43m\"\u001b[39;49m\u001b[38;5;124;43m1.200\u001b[39;49m\u001b[38;5;124;43m\"\u001b[39;49m\u001b[43m)\u001b[49m\u001b[38;5;241;43m+\u001b[39;49m\u001b[38;5;241;43m1.2\u001b[39;49m\n",
      "\u001b[1;31mTypeError\u001b[0m: unsupported operand type(s) for +: 'decimal.Decimal' and 'float'"
     ]
    }
   ],
   "source": [
    "decimal.Decimal(\"1.200\")+1.2"
   ]
  },
  {
   "cell_type": "markdown",
   "id": "df1747c0",
   "metadata": {},
   "source": [
    "it will return an error. It will not combinrd with the floating point value so here we hve to type cast it to the float datatype"
   ]
  },
  {
   "cell_type": "markdown",
   "id": "dd89776a",
   "metadata": {},
   "source": [
    "7. Using the Fraction class but not the Decimal class, give an example of a quantity that can be\n",
    "expressed with absolute precision."
   ]
  },
  {
   "cell_type": "code",
   "execution_count": 13,
   "id": "69bf5469",
   "metadata": {},
   "outputs": [
    {
     "data": {
      "text/plain": [
       "Fraction(11, 10)"
      ]
     },
     "execution_count": 13,
     "metadata": {},
     "output_type": "execute_result"
    }
   ],
   "source": [
    "import fractions\n",
    "fractions.Fraction(decimal.Decimal('1.1'))"
   ]
  },
  {
   "cell_type": "code",
   "execution_count": 14,
   "id": "4f0b44c1",
   "metadata": {},
   "outputs": [
    {
     "data": {
      "text/plain": [
       "Fraction(2476979795053773, 2251799813685248)"
      ]
     },
     "execution_count": 14,
     "metadata": {},
     "output_type": "execute_result"
    }
   ],
   "source": [
    "fractions.Fraction(1.1)"
   ]
  },
  {
   "cell_type": "markdown",
   "id": "c0f9325e",
   "metadata": {},
   "source": [
    "8. Describe a quantity that can be accurately expressed by the Decimal or Fraction classes but not by\n",
    "a floating-point value."
   ]
  },
  {
   "cell_type": "markdown",
   "id": "ff9d03f1",
   "metadata": {},
   "source": [
    "Q9.Consider the following two fraction objects: Fraction(1, 2) and Fraction(1, 2). (5, 10). Is the internal\n",
    "state of these two objects the same? Why do you think that is?"
   ]
  },
  {
   "cell_type": "code",
   "execution_count": 15,
   "id": "20d37ad4",
   "metadata": {},
   "outputs": [
    {
     "data": {
      "text/plain": [
       "Fraction(1, 2)"
      ]
     },
     "execution_count": 15,
     "metadata": {},
     "output_type": "execute_result"
    }
   ],
   "source": [
    "fractions.Fraction(1, 2) "
   ]
  },
  {
   "cell_type": "code",
   "execution_count": 16,
   "id": "ff9886ee",
   "metadata": {},
   "outputs": [
    {
     "data": {
      "text/plain": [
       "Fraction(1, 2)"
      ]
     },
     "execution_count": 16,
     "metadata": {},
     "output_type": "execute_result"
    }
   ],
   "source": [
    "fractions.Fraction(5,10)"
   ]
  },
  {
   "cell_type": "markdown",
   "id": "f9182f4b",
   "metadata": {},
   "source": [
    "Even though they return the same farction, internal state is different"
   ]
  },
  {
   "cell_type": "markdown",
   "id": "c0ad59ec",
   "metadata": {},
   "source": [
    "Q10. How do the Fraction class and the integer type (int) relate to each other? Containment or\n",
    "inheritance?"
   ]
  },
  {
   "cell_type": "markdown",
   "id": "f49ab92a",
   "metadata": {},
   "source": [
    "Fraction is a direct and concrete subclass of Rational, which provides the complete implementation for rational numbers in Python. Integral types like int and bool also derive from Rational, but those are more specific."
   ]
  },
  {
   "cell_type": "code",
   "execution_count": null,
   "id": "0298d993",
   "metadata": {},
   "outputs": [],
   "source": []
  }
 ],
 "metadata": {
  "kernelspec": {
   "display_name": "Python 3 (ipykernel)",
   "language": "python",
   "name": "python3"
  },
  "language_info": {
   "codemirror_mode": {
    "name": "ipython",
    "version": 3
   },
   "file_extension": ".py",
   "mimetype": "text/x-python",
   "name": "python",
   "nbconvert_exporter": "python",
   "pygments_lexer": "ipython3",
   "version": "3.9.12"
  }
 },
 "nbformat": 4,
 "nbformat_minor": 5
}
